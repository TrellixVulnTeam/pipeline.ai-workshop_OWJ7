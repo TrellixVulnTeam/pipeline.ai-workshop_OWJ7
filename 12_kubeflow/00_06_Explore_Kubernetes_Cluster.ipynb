{
 "cells": [
  {
   "cell_type": "markdown",
   "metadata": {},
   "source": [
    "# `kubectl` Kubernetes CLI"
   ]
  },
  {
   "cell_type": "code",
   "execution_count": 1,
   "metadata": {},
   "outputs": [
    {
     "name": "stdout",
     "output_type": "stream",
     "text": [
      "NAME              STATUS   AGE\r\n",
      "anonymous         Active   38m\r\n",
      "cert-manager      Active   49m\r\n",
      "default           Active   60m\r\n",
      "istio-system      Active   49m\r\n",
      "knative-serving   Active   49m\r\n",
      "kube-node-lease   Active   60m\r\n",
      "kube-public       Active   60m\r\n",
      "kube-system       Active   60m\r\n",
      "kubeflow          Active   49m\r\n"
     ]
    }
   ],
   "source": [
    "!kubectl get namespaces"
   ]
  },
  {
   "cell_type": "code",
   "execution_count": 2,
   "metadata": {},
   "outputs": [
    {
     "name": "stdout",
     "output_type": "stream",
     "text": [
      "NAME         READY   STATUS    RESTARTS   AGE\r\n",
      "notebook-0   2/2     Running   0          36m\r\n"
     ]
    }
   ],
   "source": [
    "!kubectl get pods --namespace anonymous"
   ]
  },
  {
   "cell_type": "code",
   "execution_count": 3,
   "metadata": {},
   "outputs": [
    {
     "name": "stdout",
     "output_type": "stream",
     "text": [
      "[I 21:23:33.847 NotebookApp] Writing notebook server cookie secret to /root/.local/share/jupyter/runtime/notebook_cookie_secret\r\n",
      "[W 21:23:34.003 NotebookApp] All authentication is disabled.  Anyone who can connect to this server will be able to run code.\r\n",
      "[I 21:23:34.033 NotebookApp] JupyterLab extension loaded from /opt/conda/lib/python3.6/site-packages/jupyterlab\r\n",
      "[I 21:23:34.033 NotebookApp] JupyterLab application directory is /opt/conda/share/jupyter/lab\r\n",
      "[I 21:23:34.035 NotebookApp] Serving notebooks from local directory: /home/jovyan\r\n",
      "[I 21:23:34.035 NotebookApp] The Jupyter Notebook is running at:\r\n",
      "[I 21:23:34.035 NotebookApp] http://notebook-0:8888/notebook/anonymous/notebook/\r\n",
      "[I 21:23:34.035 NotebookApp] Use Control-C to stop this server and shut down all kernels (twice to skip confirmation).\r\n",
      "[I 21:23:44.100 NotebookApp] 302 GET /notebook/anonymous/notebook/ (127.0.0.1) 0.56ms\r\n",
      "[I 21:23:51.528 NotebookApp] New terminal with automatic name: 1\r\n",
      "[I 21:24:46.488 NotebookApp] New terminal with automatic name: 2\r\n",
      "[I 21:25:39.269 NotebookApp] New terminal with automatic name: 3\r\n",
      "[I 21:27:50.092 NotebookApp] 302 GET /notebook/anonymous/notebook/ (127.0.0.1) 0.47ms\r\n",
      "[I 21:27:55.919 NotebookApp] New terminal with automatic name: 4\r\n",
      "[I 21:35:40.500 NotebookApp] New terminal with automatic name: 5\r\n",
      "[I 21:49:38.095 NotebookApp] 302 GET /notebook/anonymous/notebook/ (127.0.0.1) 0.47ms\r\n",
      "[I 21:49:44.872 NotebookApp] Creating new notebook in \r\n",
      "[I 21:49:44.881 NotebookApp] Writing notebook-signing key to /root/.local/share/jupyter/notebook_secret\r\n",
      "[I 21:49:46.805 NotebookApp] Kernel started: 1ecdde6b-75a2-4990-bb41-0b01033dd53f\r\n",
      "[I 21:50:07.027 NotebookApp] Kernel shutdown: 1ecdde6b-75a2-4990-bb41-0b01033dd53f\r\n",
      "[W 21:50:07.028 NotebookApp] delete /Untitled.ipynb\r\n",
      "[W 21:50:07.028 NotebookApp] Skipping trash for /home/jovyan/Untitled.ipynb, on different device to home directory\r\n"
     ]
    }
   ],
   "source": [
    "!kubectl logs notebook-0 --container notebook --namespace anonymous"
   ]
  },
  {
   "cell_type": "code",
   "execution_count": null,
   "metadata": {},
   "outputs": [],
   "source": [
    "%%javascript\n",
    "Jupyter.notebook.save_checkpoint();\n",
    "Jupyter.notebook.session.delete();"
   ]
  },
  {
   "cell_type": "code",
   "execution_count": null,
   "metadata": {},
   "outputs": [],
   "source": []
  }
 ],
 "metadata": {
  "kernelspec": {
   "display_name": "conda_python3",
   "language": "python",
   "name": "conda_python3"
  },
  "language_info": {
   "codemirror_mode": {
    "name": "ipython",
    "version": 3
   },
   "file_extension": ".py",
   "mimetype": "text/x-python",
   "name": "python",
   "nbconvert_exporter": "python",
   "pygments_lexer": "ipython3",
   "version": "3.6.10"
  }
 },
 "nbformat": 4,
 "nbformat_minor": 4
}
