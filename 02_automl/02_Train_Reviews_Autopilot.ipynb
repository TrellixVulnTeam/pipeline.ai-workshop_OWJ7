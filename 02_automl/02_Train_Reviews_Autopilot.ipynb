{
 "cells": [
  {
   "cell_type": "markdown",
   "metadata": {},
   "source": [
    "# Train a Model with SageMaker Autopilot\n",
    "\n",
    "We will use Autopilot to predict the star rating of customer reviews. Autopilot implements a transparent approach to AutoML. \n",
    "\n",
    "For more details on Autopilot, have a look at this [Amazon Science Publication](https://assets.amazon.science/e8/8b/2366b1ab407990dec96e55ee5664/amazon-sagemaker-autopilot-a-white-box-automl-solution-at-scale.pdf)"
   ]
  },
  {
   "cell_type": "markdown",
   "metadata": {},
   "source": [
    "<img src=\"img/autopilot-transparent.png\" width=\"80%\" align=\"left\">"
   ]
  },
  {
   "cell_type": "markdown",
   "metadata": {},
   "source": [
    "# Introduction"
   ]
  },
  {
   "cell_type": "markdown",
   "metadata": {},
   "source": [
    "Amazon SageMaker Autopilot is a service to perform automated machine learning (AutoML) on your datasets.  Autopilot is available through the UI or AWS SDK.  In this notebook, we will use the AWS SDK to create and deploy a text processing and star rating classification machine learning pipeline."
   ]
  },
  {
   "cell_type": "markdown",
   "metadata": {},
   "source": [
    "# Setup\n",
    "\n",
    "Let's start by specifying:\n",
    "\n",
    "* The S3 bucket and prefix to use to train our model.  _Note:  This should be in the same region as this notebook._\n",
    "* The IAM role of this notebook needs access to your data."
   ]
  },
  {
   "cell_type": "markdown",
   "metadata": {},
   "source": [
    "# Notes\n",
    "* This notebook will take some time to finish. \n",
    "\n",
    "* You can start this notebook and continue to the next notebooks whenever you are waiting for the current notebook to finish."
   ]
  },
  {
   "cell_type": "markdown",
   "metadata": {},
   "source": [
    "# Checking Pre-Requisites From The Previous `01_Prepare_Dataset_Autopilot` Notebook"
   ]
  },
  {
   "cell_type": "code",
   "execution_count": 1,
   "metadata": {},
   "outputs": [],
   "source": [
    "%store -r autopilot_train_s3_uri"
   ]
  },
  {
   "cell_type": "code",
   "execution_count": 2,
   "metadata": {},
   "outputs": [
    {
     "name": "stdout",
     "output_type": "stream",
     "text": [
      "[OK]\n"
     ]
    }
   ],
   "source": [
    "try:\n",
    "    autopilot_train_s3_uri\n",
    "    print('[OK]')\n",
    "except NameError:\n",
    "    print('+++++++++++++++++++++++++++++++++++++++++++++++++++++++++++++++++++++')\n",
    "    print('[ERROR] PLEASE RUN THE PREVIOUS 01_PREPARE_DATASET_AUTOPILOT NOTEBOOK.')\n",
    "    print('+++++++++++++++++++++++++++++++++++++++++++++++++++++++++++++++++++++')"
   ]
  },
  {
   "cell_type": "code",
   "execution_count": 3,
   "metadata": {},
   "outputs": [
    {
     "name": "stdout",
     "output_type": "stream",
     "text": [
      "s3://sagemaker-us-west-2-354474215062/data/amazon_reviews_us_Digital_Software_v1_00_autopilot.csv\n"
     ]
    }
   ],
   "source": [
    "print(autopilot_train_s3_uri)"
   ]
  },
  {
   "cell_type": "code",
   "execution_count": 4,
   "metadata": {},
   "outputs": [
    {
     "name": "stdout",
     "output_type": "stream",
     "text": [
      "[OK]\n"
     ]
    }
   ],
   "source": [
    "if not autopilot_train_s3_uri:\n",
    "    print('+++++++++++++++++++++++++++++++++++++++++++++++++++++++++++++++++++++')\n",
    "    print('[ERROR] PLEASE RUN THE PREVIOUS 01_PREPARE_DATASET_AUTOPILOT NOTEBOOK.')\n",
    "    print('+++++++++++++++++++++++++++++++++++++++++++++++++++++++++++++++++++++')\n",
    "else:\n",
    "    print('[OK]')"
   ]
  },
  {
   "cell_type": "code",
   "execution_count": 5,
   "metadata": {},
   "outputs": [],
   "source": [
    "import boto3\n",
    "import sagemaker\n",
    "import pandas as pd\n",
    "import json\n",
    "\n",
    "sess   = sagemaker.Session()\n",
    "bucket = sess.default_bucket()\n",
    "role = sagemaker.get_execution_role()\n",
    "region = boto3.Session().region_name\n",
    "\n",
    "sm = boto3.Session().client(service_name='sagemaker', region_name=region)"
   ]
  },
  {
   "cell_type": "markdown",
   "metadata": {},
   "source": [
    "# Training Data"
   ]
  },
  {
   "cell_type": "code",
   "execution_count": 6,
   "metadata": {},
   "outputs": [
    {
     "name": "stdout",
     "output_type": "stream",
     "text": [
      "s3://sagemaker-us-west-2-354474215062/data/amazon_reviews_us_Digital_Software_v1_00_autopilot.csv\n"
     ]
    }
   ],
   "source": [
    "print(autopilot_train_s3_uri)"
   ]
  },
  {
   "cell_type": "code",
   "execution_count": 7,
   "metadata": {},
   "outputs": [
    {
     "name": "stdout",
     "output_type": "stream",
     "text": [
      "2020-09-26 15:56:37   13621823 amazon_reviews_us_Digital_Software_v1_00_autopilot.csv\r\n"
     ]
    }
   ],
   "source": [
    "!aws s3 ls $autopilot_train_s3_uri"
   ]
  },
  {
   "cell_type": "markdown",
   "metadata": {},
   "source": [
    "## See our prepared training data which we use as input for Autopilot"
   ]
  },
  {
   "cell_type": "code",
   "execution_count": 8,
   "metadata": {},
   "outputs": [
    {
     "name": "stdout",
     "output_type": "stream",
     "text": [
      "download: s3://sagemaker-us-west-2-354474215062/data/amazon_reviews_us_Digital_Software_v1_00_autopilot.csv to tmp/amazon_reviews_us_Digital_Software_v1_00_autopilot.csv\n"
     ]
    }
   ],
   "source": [
    "!aws s3 cp $autopilot_train_s3_uri ./tmp/"
   ]
  },
  {
   "cell_type": "code",
   "execution_count": 9,
   "metadata": {},
   "outputs": [
    {
     "data": {
      "text/html": [
       "<div>\n",
       "<style scoped>\n",
       "    .dataframe tbody tr th:only-of-type {\n",
       "        vertical-align: middle;\n",
       "    }\n",
       "\n",
       "    .dataframe tbody tr th {\n",
       "        vertical-align: top;\n",
       "    }\n",
       "\n",
       "    .dataframe thead th {\n",
       "        text-align: right;\n",
       "    }\n",
       "</style>\n",
       "<table border=\"1\" class=\"dataframe\">\n",
       "  <thead>\n",
       "    <tr style=\"text-align: right;\">\n",
       "      <th></th>\n",
       "      <th>star_rating</th>\n",
       "      <th>review_body</th>\n",
       "    </tr>\n",
       "  </thead>\n",
       "  <tbody>\n",
       "    <tr>\n",
       "      <th>0</th>\n",
       "      <td>1</td>\n",
       "      <td>Can't get it to work. Brand new computer follo...</td>\n",
       "    </tr>\n",
       "    <tr>\n",
       "      <th>1</th>\n",
       "      <td>4</td>\n",
       "      <td>Got my refund back in record time.</td>\n",
       "    </tr>\n",
       "    <tr>\n",
       "      <th>2</th>\n",
       "      <td>5</td>\n",
       "      <td>I have been using Turbo tax for years, works w...</td>\n",
       "    </tr>\n",
       "    <tr>\n",
       "      <th>3</th>\n",
       "      <td>2</td>\n",
       "      <td>I'm sorry but 2013 is not as user friendly as ...</td>\n",
       "    </tr>\n",
       "    <tr>\n",
       "      <th>4</th>\n",
       "      <td>5</td>\n",
       "      <td>Bit of a learning curve after using Money Suns...</td>\n",
       "    </tr>\n",
       "  </tbody>\n",
       "</table>\n",
       "</div>"
      ],
      "text/plain": [
       "   star_rating                                        review_body\n",
       "0            1  Can't get it to work. Brand new computer follo...\n",
       "1            4                 Got my refund back in record time.\n",
       "2            5  I have been using Turbo tax for years, works w...\n",
       "3            2  I'm sorry but 2013 is not as user friendly as ...\n",
       "4            5  Bit of a learning curve after using Money Suns..."
      ]
     },
     "execution_count": 9,
     "metadata": {},
     "output_type": "execute_result"
    }
   ],
   "source": [
    "import csv\n",
    "\n",
    "df = pd.read_csv('./tmp/amazon_reviews_us_Digital_Software_v1_00_autopilot.csv')\n",
    "df.head()"
   ]
  },
  {
   "cell_type": "markdown",
   "metadata": {},
   "source": [
    "# Setup the S3 Location for the Autopilot-Generated Assets \n",
    "This include Jupyter Notebooks (Analysis), Python Scripts (Feature Engineering), and Trained Models."
   ]
  },
  {
   "cell_type": "code",
   "execution_count": 10,
   "metadata": {},
   "outputs": [
    {
     "name": "stdout",
     "output_type": "stream",
     "text": [
      "s3://sagemaker-us-west-2-354474215062/models/autopilot\n"
     ]
    }
   ],
   "source": [
    "prefix_model_output = 'models/autopilot'\n",
    "\n",
    "model_output_s3_uri = 's3://{}/{}'.format(bucket, prefix_model_output)\n",
    "\n",
    "print(model_output_s3_uri)"
   ]
  },
  {
   "cell_type": "code",
   "execution_count": 11,
   "metadata": {},
   "outputs": [],
   "source": [
    "max_candidates = 3\n",
    "\n",
    "job_config = {\n",
    "    'CompletionCriteria': {\n",
    "      'MaxRuntimePerTrainingJobInSeconds': 600,\n",
    "      'MaxCandidates': max_candidates,\n",
    "      'MaxAutoMLJobRuntimeInSeconds': 3600\n",
    "    },\n",
    "}\n",
    "\n",
    "input_data_config = [{\n",
    "      'DataSource': {\n",
    "        'S3DataSource': {\n",
    "          'S3DataType': 'S3Prefix',\n",
    "          'S3Uri': '{}'.format(autopilot_train_s3_uri)\n",
    "        }\n",
    "      },\n",
    "      'TargetAttributeName': 'star_rating'\n",
    "    }\n",
    "]\n",
    "\n",
    "output_data_config = {\n",
    "    'S3OutputPath': '{}'.format(model_output_s3_uri)\n",
    "}"
   ]
  },
  {
   "cell_type": "markdown",
   "metadata": {},
   "source": [
    "# Check For Existing Autopilot Jobs"
   ]
  },
  {
   "cell_type": "code",
   "execution_count": 12,
   "metadata": {},
   "outputs": [],
   "source": [
    "existing_jobs_response = sm.list_auto_ml_jobs()"
   ]
  },
  {
   "cell_type": "code",
   "execution_count": 13,
   "metadata": {},
   "outputs": [
    {
     "data": {
      "text/plain": [
       "{'AutoMLJobSummaries': [],\n",
       " 'ResponseMetadata': {'RequestId': '3ca36886-a00c-4885-b26f-1ccef58b7ac6',\n",
       "  'HTTPStatusCode': 200,\n",
       "  'HTTPHeaders': {'x-amzn-requestid': '3ca36886-a00c-4885-b26f-1ccef58b7ac6',\n",
       "   'content-type': 'application/x-amz-json-1.1',\n",
       "   'content-length': '25',\n",
       "   'date': 'Sat, 26 Sep 2020 15:59:42 GMT'},\n",
       "  'RetryAttempts': 0}}"
      ]
     },
     "execution_count": 13,
     "metadata": {},
     "output_type": "execute_result"
    }
   ],
   "source": [
    "existing_jobs_response"
   ]
  },
  {
   "cell_type": "code",
   "execution_count": 14,
   "metadata": {},
   "outputs": [
    {
     "name": "stdout",
     "output_type": "stream",
     "text": [
      "[INFO] You already created 0 Autopilot job(s) in this account.\n",
      "[INFO] There are currently 0 Autopilot job(s) actively running.\n"
     ]
    }
   ],
   "source": [
    "num_existing_jobs = 0 \n",
    "running_jobs = 0\n",
    "\n",
    "if 'AutoMLJobSummaries' in existing_jobs_response.keys():\n",
    "    job_list = existing_jobs_response['AutoMLJobSummaries']\n",
    "    num_existing_jobs = len(job_list)\n",
    "    print('[INFO] You already created {} Autopilot job(s) in this account.'.format(num_existing_jobs))\n",
    "    for j in job_list:\n",
    "        if 'AutoMLJobStatus' in j.keys():                \n",
    "            if j['AutoMLJobStatus'] == 'InProgress':\n",
    "                running_jobs = running_jobs + 1\n",
    "    print('[INFO] There are currently {} Autopilot job(s) actively running.'.format(running_jobs))\n",
    "else:\n",
    "    print('[OK] Please continue.')"
   ]
  },
  {
   "cell_type": "markdown",
   "metadata": {},
   "source": [
    "# Launch the SageMaker Autopilot Job\n",
    "\n",
    "## _Note: Please Only Run This Once._"
   ]
  },
  {
   "cell_type": "code",
   "execution_count": 15,
   "metadata": {},
   "outputs": [],
   "source": [
    "from time import gmtime, strftime, sleep"
   ]
  },
  {
   "cell_type": "code",
   "execution_count": 16,
   "metadata": {},
   "outputs": [
    {
     "name": "stdout",
     "output_type": "stream",
     "text": [
      "no stored variable or alias auto_ml_job_name\n",
      "Created AutoMLJobName: automl-dm-26-16-00-12\n"
     ]
    }
   ],
   "source": [
    "%store -r auto_ml_job_name\n",
    "\n",
    "try:\n",
    "    auto_ml_job_name\n",
    "except NameError:    \n",
    "    timestamp_suffix = strftime('%d-%H-%M-%S', gmtime())\n",
    "    auto_ml_job_name = 'automl-dm-' + timestamp_suffix\n",
    "    print('Created AutoMLJobName: ' + auto_ml_job_name)"
   ]
  },
  {
   "cell_type": "code",
   "execution_count": 17,
   "metadata": {},
   "outputs": [
    {
     "name": "stdout",
     "output_type": "stream",
     "text": [
      "automl-dm-26-16-00-12\n"
     ]
    }
   ],
   "source": [
    "print(auto_ml_job_name)"
   ]
  },
  {
   "cell_type": "code",
   "execution_count": 18,
   "metadata": {},
   "outputs": [
    {
     "name": "stdout",
     "output_type": "stream",
     "text": [
      "Stored 'auto_ml_job_name' (str)\n"
     ]
    }
   ],
   "source": [
    "%store auto_ml_job_name"
   ]
  },
  {
   "cell_type": "code",
   "execution_count": 19,
   "metadata": {},
   "outputs": [
    {
     "name": "stdout",
     "output_type": "stream",
     "text": [
      "Currently Running Jobs (Should be 0): 0\n"
     ]
    }
   ],
   "source": [
    "print('Currently Running Jobs (Should be 0): {}'.format(running_jobs))"
   ]
  },
  {
   "cell_type": "code",
   "execution_count": 20,
   "metadata": {},
   "outputs": [
    {
     "name": "stdout",
     "output_type": "stream",
     "text": [
      "[OK] Autopilot Job automl-dm-26-16-00-12 created.\n"
     ]
    }
   ],
   "source": [
    "max_running_jobs = 1\n",
    "\n",
    "if running_jobs < max_running_jobs: # Limiting to max. 1 Jobs\n",
    "    try:\n",
    "        sm.create_auto_ml_job(AutoMLJobName=auto_ml_job_name,\n",
    "                              InputDataConfig=input_data_config,\n",
    "                              OutputDataConfig=output_data_config,\n",
    "                              AutoMLJobConfig=job_config,\n",
    "                              RoleArn=role)\n",
    "        print('[OK] Autopilot Job {} created.'.format(auto_ml_job_name))\n",
    "        running_jobs = running_jobs + 1\n",
    "    except:\n",
    "        print('[WARN] You have already launched an Autopilot job.  Please continue see the output of this job.'.format(running_jobs))\n",
    "else:\n",
    "    print('[WARN] You have already launched {} Autopilot running job(s).  Please continue see the output of the running job.'.format(running_jobs))"
   ]
  },
  {
   "cell_type": "markdown",
   "metadata": {},
   "source": [
    "# Track the Progress of the Autopilot Job\n",
    "\n",
    "SageMaker Autopilot job consists of the following high-level steps: \n",
    "* _Data Analysis_ where the data is summarized and analyzed to determine which feature engineering techniques, hyper-parameters, and models to explore.\n",
    "* _Feature Engineering_ where the data is scrubbed, balanced, combined, and split into train and validation.\n",
    "* _Model Training and Tuning_ where the top performing features, hyper-parameters, and models are selected and trained.\n",
    "\n",
    "<img src=\"img/autopilot-steps.png\" width=\"90%\" align=\"left\">"
   ]
  },
  {
   "cell_type": "markdown",
   "metadata": {},
   "source": [
    "**Autopilot Research Paper: https://assets.amazon.science/e8/8b/2366b1ab407990dec96e55ee5664/amazon-sagemaker-autopilot-a-white-box-automl-solution-at-scale.pdf**"
   ]
  },
  {
   "cell_type": "markdown",
   "metadata": {},
   "source": [
    "# Analyzing Data and Generate Notebooks"
   ]
  },
  {
   "cell_type": "code",
   "execution_count": 21,
   "metadata": {},
   "outputs": [
    {
     "name": "stdout",
     "output_type": "stream",
     "text": [
      "[OK] AutoMLJob started.\n"
     ]
    }
   ],
   "source": [
    "job_description_response = sm.describe_auto_ml_job(AutoMLJobName=auto_ml_job_name)\n",
    "\n",
    "while 'AutoMLJobStatus' not in job_description_response.keys() and 'AutoMLJobSecondaryStatus' not in job_description_response.keys():\n",
    "    job_description_response = sm.describe_auto_ml_job(AutoMLJobName=auto_ml_job_name)\n",
    "    print('[INFO] Autopilot Job has not yet started. Please wait. ')\n",
    "    print(json.dumps(job_description_response, indent=4, sort_keys=True, default=str))\n",
    "    print('[INFO] Waiting for Autopilot Job to start...')\n",
    "    sleep(15)\n",
    "\n",
    "print('[OK] AutoMLJob started.')"
   ]
  },
  {
   "cell_type": "markdown",
   "metadata": {},
   "source": [
    "# Review the SageMaker `Processing Jobs`\n",
    "* First Processing Job (Data Splitter) checks the data sanity, performs stratified shuffling and splits the data into training and validation. \n",
    "* Second Processing Job (Candidate Generator) first streams through the data to compute statistics for the dataset. Then, uses these statistics to identify the problem type, and possible types of every column-predictor: numeric, categorical, natural language, etc."
   ]
  },
  {
   "cell_type": "code",
   "execution_count": 23,
   "metadata": {
    "scrolled": true
   },
   "outputs": [
    {
     "data": {
      "text/html": [
       "<b>Review <a target=\"blank\" href=\"https://console.aws.amazon.com/sagemaker/home?region=us-west-2#/processing-jobs/\">Processing Jobs</a></b>"
      ],
      "text/plain": [
       "<IPython.core.display.HTML object>"
      ]
     },
     "metadata": {},
     "output_type": "display_data"
    }
   ],
   "source": [
    "from IPython.core.display import display, HTML\n",
    "\n",
    "display(HTML('<b>Review <a target=\"blank\" href=\"https://console.aws.amazon.com/sagemaker/home?region={}#/processing-jobs/\">Processing Jobs</a></b>'.format(region)))\n"
   ]
  },
  {
   "cell_type": "markdown",
   "metadata": {},
   "source": [
    "# The Next Cell Will Show `InProgress` For A Few Minutes.\n",
    "\n",
    "## _Please be patient._"
   ]
  },
  {
   "cell_type": "code",
   "execution_count": 24,
   "metadata": {},
   "outputs": [
    {
     "name": "stdout",
     "output_type": "stream",
     "text": [
      "InProgress AnalyzingData\n",
      "InProgress AnalyzingData\n",
      "InProgress AnalyzingData\n",
      "InProgress AnalyzingData\n",
      "InProgress AnalyzingData\n",
      "InProgress AnalyzingData\n",
      "InProgress AnalyzingData\n",
      "InProgress AnalyzingData\n",
      "InProgress AnalyzingData\n",
      "InProgress AnalyzingData\n",
      "InProgress AnalyzingData\n",
      "InProgress AnalyzingData\n",
      "InProgress AnalyzingData\n",
      "InProgress AnalyzingData\n",
      "InProgress AnalyzingData\n",
      "InProgress AnalyzingData\n",
      "InProgress AnalyzingData\n",
      "InProgress AnalyzingData\n",
      "InProgress FeatureEngineering\n",
      "[OK] Data analysis phase completed.\n",
      "\n",
      "{\n",
      "    \"AutoMLJobArn\": \"arn:aws:sagemaker:us-west-2:354474215062:automl-job/automl-dm-26-16-00-12\",\n",
      "    \"AutoMLJobArtifacts\": {\n",
      "        \"CandidateDefinitionNotebookLocation\": \"s3://sagemaker-us-west-2-354474215062/models/autopilot/automl-dm-26-16-00-12/sagemaker-automl-candidates/pr-1-a886accbab0c4430a4eca6b914181db78ecce53b4edb46c2862e5158b3/notebooks/SageMakerAutopilotCandidateDefinitionNotebook.ipynb\",\n",
      "        \"DataExplorationNotebookLocation\": \"s3://sagemaker-us-west-2-354474215062/models/autopilot/automl-dm-26-16-00-12/sagemaker-automl-candidates/pr-1-a886accbab0c4430a4eca6b914181db78ecce53b4edb46c2862e5158b3/notebooks/SageMakerAutopilotDataExplorationNotebook.ipynb\"\n",
      "    },\n",
      "    \"AutoMLJobConfig\": {\n",
      "        \"CompletionCriteria\": {\n",
      "            \"MaxAutoMLJobRuntimeInSeconds\": 3600,\n",
      "            \"MaxCandidates\": 3,\n",
      "            \"MaxRuntimePerTrainingJobInSeconds\": 600\n",
      "        }\n",
      "    },\n",
      "    \"AutoMLJobName\": \"automl-dm-26-16-00-12\",\n",
      "    \"AutoMLJobSecondaryStatus\": \"FeatureEngineering\",\n",
      "    \"AutoMLJobStatus\": \"InProgress\",\n",
      "    \"CreationTime\": \"2020-09-26 16:01:50.873000+00:00\",\n",
      "    \"GenerateCandidateDefinitionsOnly\": false,\n",
      "    \"InputDataConfig\": [\n",
      "        {\n",
      "            \"DataSource\": {\n",
      "                \"S3DataSource\": {\n",
      "                    \"S3DataType\": \"S3Prefix\",\n",
      "                    \"S3Uri\": \"s3://sagemaker-us-west-2-354474215062/data/amazon_reviews_us_Digital_Software_v1_00_autopilot.csv\"\n",
      "                }\n",
      "            },\n",
      "            \"TargetAttributeName\": \"star_rating\"\n",
      "        }\n",
      "    ],\n",
      "    \"LastModifiedTime\": \"2020-09-26 16:09:27.543000+00:00\",\n",
      "    \"OutputDataConfig\": {\n",
      "        \"S3OutputPath\": \"s3://sagemaker-us-west-2-354474215062/models/autopilot\"\n",
      "    },\n",
      "    \"ResolvedAttributes\": {\n",
      "        \"AutoMLJobObjective\": {\n",
      "            \"MetricName\": \"Accuracy\"\n",
      "        },\n",
      "        \"CompletionCriteria\": {\n",
      "            \"MaxAutoMLJobRuntimeInSeconds\": 3600,\n",
      "            \"MaxCandidates\": 3,\n",
      "            \"MaxRuntimePerTrainingJobInSeconds\": 600\n",
      "        },\n",
      "        \"ProblemType\": \"MulticlassClassification\"\n",
      "    },\n",
      "    \"ResponseMetadata\": {\n",
      "        \"HTTPHeaders\": {\n",
      "            \"content-length\": \"1609\",\n",
      "            \"content-type\": \"application/x-amz-json-1.1\",\n",
      "            \"date\": \"Sat, 26 Sep 2020 16:09:31 GMT\",\n",
      "            \"x-amzn-requestid\": \"9353d3b5-1009-4ca1-8c1b-176f77467413\"\n",
      "        },\n",
      "        \"HTTPStatusCode\": 200,\n",
      "        \"RequestId\": \"9353d3b5-1009-4ca1-8c1b-176f77467413\",\n",
      "        \"RetryAttempts\": 0\n",
      "    },\n",
      "    \"RoleArn\": \"arn:aws:iam::354474215062:role/TeamRole\"\n",
      "}\n",
      "CPU times: user 190 ms, sys: 21.2 ms, total: 211 ms\n",
      "Wall time: 4min 46s\n"
     ]
    }
   ],
   "source": [
    "%%time\n",
    "\n",
    "job_status = job_description_response['AutoMLJobStatus']\n",
    "job_sec_status = job_description_response['AutoMLJobSecondaryStatus']\n",
    "\n",
    "if job_status not in ('Stopped', 'Failed'):\n",
    "    while job_status in ('InProgress') and job_sec_status in ('Starting', 'AnalyzingData'):\n",
    "        job_description_response = sm.describe_auto_ml_job(AutoMLJobName=auto_ml_job_name)\n",
    "        job_status = job_description_response['AutoMLJobStatus']\n",
    "        job_sec_status = job_description_response['AutoMLJobSecondaryStatus']\n",
    "        print(job_status, job_sec_status)\n",
    "        sleep(15)\n",
    "    print('[OK] Data analysis phase completed.\\n')\n",
    "    \n",
    "print(json.dumps(job_description_response, indent=4, sort_keys=True, default=str))"
   ]
  },
  {
   "cell_type": "markdown",
   "metadata": {},
   "source": [
    "# View Generated Notebook Samples\n",
    "Once data analysis is complete, SageMaker AutoPilot generates two notebooks: \n",
    "* Data Exploration\n",
    "* Candidate Definition"
   ]
  },
  {
   "cell_type": "markdown",
   "metadata": {},
   "source": [
    "# Waiting For Generated Notebooks"
   ]
  },
  {
   "cell_type": "code",
   "execution_count": 25,
   "metadata": {},
   "outputs": [
    {
     "name": "stdout",
     "output_type": "stream",
     "text": [
      "[OK] AutoMLJobArtifacts generated.\n"
     ]
    }
   ],
   "source": [
    "job_description_response = sm.describe_auto_ml_job(AutoMLJobName=auto_ml_job_name)\n",
    "\n",
    "while 'AutoMLJobArtifacts' not in job_description_response.keys():\n",
    "    job_description_response = sm.describe_auto_ml_job(AutoMLJobName=auto_ml_job_name)\n",
    "    print('[INFO] Autopilot Job has not yet generated the artifacts. Please wait. ')\n",
    "    print(json.dumps(job_description_response, indent=4, sort_keys=True, default=str))\n",
    "    print('[INFO] Waiting for AutoMLJobArtifacts...')\n",
    "    sleep(15)\n",
    "\n",
    "print('[OK] AutoMLJobArtifacts generated.')"
   ]
  },
  {
   "cell_type": "code",
   "execution_count": 26,
   "metadata": {},
   "outputs": [
    {
     "name": "stdout",
     "output_type": "stream",
     "text": [
      "[OK] DataExplorationNotebookLocation found.\n"
     ]
    }
   ],
   "source": [
    "job_description_response = sm.describe_auto_ml_job(AutoMLJobName=auto_ml_job_name)\n",
    "\n",
    "while 'DataExplorationNotebookLocation' not in job_description_response['AutoMLJobArtifacts'].keys():\n",
    "    job_description_response = sm.describe_auto_ml_job(AutoMLJobName=auto_ml_job_name)\n",
    "    print('[INFO] Autopilot Job has not yet generated the notebooks. Please wait. ')\n",
    "    print(json.dumps(job_description_response, indent=4, sort_keys=True, default=str))\n",
    "    print('[INFO] Waiting for DataExplorationNotebookLocation...')\n",
    "    sleep(15)\n",
    "\n",
    "print('[OK] DataExplorationNotebookLocation found.')   "
   ]
  },
  {
   "cell_type": "code",
   "execution_count": 27,
   "metadata": {},
   "outputs": [],
   "source": [
    "generated_resources = job_description_response['AutoMLJobArtifacts']['DataExplorationNotebookLocation'].rstrip('notebooks/SageMakerAutopilotDataExplorationNotebook.ipynb')\n",
    "\n",
    "pr_job_id = generated_resources.rsplit('/', 1)[-1]"
   ]
  },
  {
   "cell_type": "code",
   "execution_count": 29,
   "metadata": {},
   "outputs": [
    {
     "data": {
      "text/html": [
       "<b>Review <a target=\"blank\" href=\"https://s3.console.aws.amazon.com/s3/buckets/sagemaker-us-west-2-354474215062/models/autopilot/automl-dm-26-16-00-12/sagemaker-automl-candidates/pr-1-a886accbab0c4430a4eca6b914181db78ecce53b4edb46c2862e5158b3/\">S3 Generated Resources</a></b>"
      ],
      "text/plain": [
       "<IPython.core.display.HTML object>"
      ]
     },
     "metadata": {},
     "output_type": "display_data"
    }
   ],
   "source": [
    "from IPython.core.display import display, HTML\n",
    "\n",
    "if not pr_job_id: \n",
    "    print('No AutoMLJobArtifacts found.')\n",
    "else: \n",
    "    display(HTML('<b>Review <a target=\"blank\" href=\"https://s3.console.aws.amazon.com/s3/buckets/{}/{}/{}/sagemaker-automl-candidates/{}/\">S3 Generated Resources</a></b>'.format(bucket, prefix_model_output, auto_ml_job_name, pr_job_id)))"
   ]
  },
  {
   "cell_type": "markdown",
   "metadata": {},
   "source": [
    "# In the Jupyter File Browser, Open the Following Folders to See Samples of the Generated Assets:\n",
    "```\n",
    "notebooks/\n",
    "generated_module/\n",
    "```\n",
    "\n",
    "Lots of useful information ^^ in these folders ^^\n",
    "\n",
    "#### _(Optional) You can download the actual files generated for your specific Autopilot run using the following:_\n",
    "```\n",
    "generated_resources = job['AutoMLJobArtifacts']['DataExplorationNotebookLocation'].rstrip('notebooks/SageMakerAutopilotDataExplorationNotebook.ipynb')\n",
    "\n",
    "!aws s3 cp --recursive $generated_resources .\n",
    "```"
   ]
  },
  {
   "cell_type": "markdown",
   "metadata": {},
   "source": [
    "# Feature Engineering"
   ]
  },
  {
   "cell_type": "markdown",
   "metadata": {},
   "source": [
    "### Watch out for SageMaker `Training Jobs` and `Batch Transform Jobs` to start. \n",
    "\n",
    "* This is the candidate exploration phase. \n",
    "* Each python script code for data-processing is executed inside a SageMaker framework container as a training job, followed by transform job.\n",
    "\n",
    "Note, that feature preprocessing part of each pipeline has all hyper parameters fixed, i.e. does not require tuning, thus feature preprocessing step can be done prior runing the hyper parameter optimization job. \n",
    "\n",
    "It outputs up to 10 variants of transformed data, therefore algorithms for each pipeline are set to use\n",
    "the respective transformed data.\n",
    "\n",
    "<img src=\"img/autopilot-steps.png\" width=\"90%\" align=\"left\">"
   ]
  },
  {
   "cell_type": "markdown",
   "metadata": {},
   "source": [
    "**Autopilot Research Paper: https://assets.amazon.science/e8/8b/2366b1ab407990dec96e55ee5664/amazon-sagemaker-autopilot-a-white-box-automl-solution-at-scale.pdf**"
   ]
  },
  {
   "cell_type": "code",
   "execution_count": 30,
   "metadata": {},
   "outputs": [
    {
     "data": {
      "text/html": [
       "<b>Review <a target=\"blank\" href=\"https://console.aws.amazon.com/sagemaker/home?region=us-west-2#/jobs/\">Training Jobs</a></b>"
      ],
      "text/plain": [
       "<IPython.core.display.HTML object>"
      ]
     },
     "metadata": {},
     "output_type": "display_data"
    }
   ],
   "source": [
    "from IPython.core.display import display, HTML\n",
    "\n",
    "display(HTML('<b>Review <a target=\"blank\" href=\"https://console.aws.amazon.com/sagemaker/home?region={}#/jobs/\">Training Jobs</a></b>'.format(region)))\n"
   ]
  },
  {
   "cell_type": "code",
   "execution_count": 32,
   "metadata": {},
   "outputs": [
    {
     "data": {
      "text/html": [
       "<b>Review <a target=\"blank\" href=\"https://console.aws.amazon.com/sagemaker/home?region=us-west-2#/transform-jobs/\">Batch Transform Jobs</a></b>"
      ],
      "text/plain": [
       "<IPython.core.display.HTML object>"
      ]
     },
     "metadata": {},
     "output_type": "display_data"
    }
   ],
   "source": [
    "from IPython.core.display import display, HTML\n",
    "\n",
    "display(HTML('<b>Review <a target=\"blank\" href=\"https://console.aws.amazon.com/sagemaker/home?region={}#/transform-jobs/\">Batch Transform Jobs</a></b>'.format(region)))\n"
   ]
  },
  {
   "cell_type": "markdown",
   "metadata": {},
   "source": [
    "# The Next Cell Will Show `InProgress` For A Few Minutes.\n",
    "\n",
    "## _Please be patient._ ##"
   ]
  },
  {
   "cell_type": "code",
   "execution_count": 33,
   "metadata": {},
   "outputs": [
    {
     "name": "stdout",
     "output_type": "stream",
     "text": [
      "InProgress\n",
      "FeatureEngineering\n",
      "InProgress FeatureEngineering\n",
      "InProgress FeatureEngineering\n",
      "InProgress FeatureEngineering\n",
      "InProgress FeatureEngineering\n",
      "InProgress FeatureEngineering\n",
      "InProgress FeatureEngineering\n",
      "InProgress FeatureEngineering\n",
      "InProgress FeatureEngineering\n",
      "InProgress FeatureEngineering\n",
      "InProgress FeatureEngineering\n",
      "InProgress FeatureEngineering\n",
      "InProgress FeatureEngineering\n",
      "InProgress FeatureEngineering\n",
      "InProgress FeatureEngineering\n",
      "InProgress FeatureEngineering\n",
      "InProgress FeatureEngineering\n",
      "InProgress FeatureEngineering\n",
      "InProgress FeatureEngineering\n",
      "InProgress FeatureEngineering\n",
      "InProgress FeatureEngineering\n",
      "InProgress FeatureEngineering\n",
      "InProgress FeatureEngineering\n",
      "InProgress FeatureEngineering\n",
      "InProgress ModelTuning\n",
      "[OK] Feature engineering phase completed.\n",
      "\n",
      "{\n",
      "    \"AutoMLJobArn\": \"arn:aws:sagemaker:us-west-2:354474215062:automl-job/automl-dm-26-16-00-12\",\n",
      "    \"AutoMLJobArtifacts\": {\n",
      "        \"CandidateDefinitionNotebookLocation\": \"s3://sagemaker-us-west-2-354474215062/models/autopilot/automl-dm-26-16-00-12/sagemaker-automl-candidates/pr-1-a886accbab0c4430a4eca6b914181db78ecce53b4edb46c2862e5158b3/notebooks/SageMakerAutopilotCandidateDefinitionNotebook.ipynb\",\n",
      "        \"DataExplorationNotebookLocation\": \"s3://sagemaker-us-west-2-354474215062/models/autopilot/automl-dm-26-16-00-12/sagemaker-automl-candidates/pr-1-a886accbab0c4430a4eca6b914181db78ecce53b4edb46c2862e5158b3/notebooks/SageMakerAutopilotDataExplorationNotebook.ipynb\"\n",
      "    },\n",
      "    \"AutoMLJobConfig\": {\n",
      "        \"CompletionCriteria\": {\n",
      "            \"MaxAutoMLJobRuntimeInSeconds\": 3600,\n",
      "            \"MaxCandidates\": 3,\n",
      "            \"MaxRuntimePerTrainingJobInSeconds\": 600\n",
      "        }\n",
      "    },\n",
      "    \"AutoMLJobName\": \"automl-dm-26-16-00-12\",\n",
      "    \"AutoMLJobSecondaryStatus\": \"ModelTuning\",\n",
      "    \"AutoMLJobStatus\": \"InProgress\",\n",
      "    \"CreationTime\": \"2020-09-26 16:01:50.873000+00:00\",\n",
      "    \"GenerateCandidateDefinitionsOnly\": false,\n",
      "    \"InputDataConfig\": [\n",
      "        {\n",
      "            \"DataSource\": {\n",
      "                \"S3DataSource\": {\n",
      "                    \"S3DataType\": \"S3Prefix\",\n",
      "                    \"S3Uri\": \"s3://sagemaker-us-west-2-354474215062/data/amazon_reviews_us_Digital_Software_v1_00_autopilot.csv\"\n",
      "                }\n",
      "            },\n",
      "            \"TargetAttributeName\": \"star_rating\"\n",
      "        }\n",
      "    ],\n",
      "    \"LastModifiedTime\": \"2020-09-26 16:18:18.457000+00:00\",\n",
      "    \"OutputDataConfig\": {\n",
      "        \"S3OutputPath\": \"s3://sagemaker-us-west-2-354474215062/models/autopilot\"\n",
      "    },\n",
      "    \"ResolvedAttributes\": {\n",
      "        \"AutoMLJobObjective\": {\n",
      "            \"MetricName\": \"Accuracy\"\n",
      "        },\n",
      "        \"CompletionCriteria\": {\n",
      "            \"MaxAutoMLJobRuntimeInSeconds\": 3600,\n",
      "            \"MaxCandidates\": 3,\n",
      "            \"MaxRuntimePerTrainingJobInSeconds\": 600\n",
      "        },\n",
      "        \"ProblemType\": \"MulticlassClassification\"\n",
      "    },\n",
      "    \"ResponseMetadata\": {\n",
      "        \"HTTPHeaders\": {\n",
      "            \"content-length\": \"1602\",\n",
      "            \"content-type\": \"application/x-amz-json-1.1\",\n",
      "            \"date\": \"Sat, 26 Sep 2020 16:18:23 GMT\",\n",
      "            \"x-amzn-requestid\": \"493017f5-b124-4674-90f1-f9b5040feec0\"\n",
      "        },\n",
      "        \"HTTPStatusCode\": 200,\n",
      "        \"RequestId\": \"493017f5-b124-4674-90f1-f9b5040feec0\",\n",
      "        \"RetryAttempts\": 0\n",
      "    },\n",
      "    \"RoleArn\": \"arn:aws:iam::354474215062:role/TeamRole\"\n",
      "}\n",
      "CPU times: user 259 ms, sys: 11.8 ms, total: 271 ms\n",
      "Wall time: 6min 1s\n"
     ]
    }
   ],
   "source": [
    "%%time\n",
    "\n",
    "job_description_response = sm.describe_auto_ml_job(AutoMLJobName=auto_ml_job_name)\n",
    "job_status = job_description_response['AutoMLJobStatus']\n",
    "job_sec_status = job_description_response['AutoMLJobSecondaryStatus']\n",
    "print(job_status)\n",
    "print(job_sec_status)\n",
    "if job_status not in ('Stopped', 'Failed'):\n",
    "    while job_status in ('InProgress') and job_sec_status in ('FeatureEngineering'):\n",
    "        job_description_response = sm.describe_auto_ml_job(AutoMLJobName=auto_ml_job_name)\n",
    "        job_status = job_description_response['AutoMLJobStatus']\n",
    "        job_sec_status = job_description_response['AutoMLJobSecondaryStatus']\n",
    "        print(job_status, job_sec_status)\n",
    "        sleep(15)\n",
    "    print('[OK] Feature engineering phase completed.\\n')\n",
    "    \n",
    "print(json.dumps(job_description_response, indent=4, sort_keys=True, default=str))"
   ]
  },
  {
   "cell_type": "markdown",
   "metadata": {},
   "source": [
    "# [INFO] _Feel free to continue to the next workshop section while this notebook is running._"
   ]
  },
  {
   "cell_type": "markdown",
   "metadata": {},
   "source": [
    "# Model Training and Tuning"
   ]
  },
  {
   "cell_type": "markdown",
   "metadata": {},
   "source": [
    "### Watch out for a SageMaker`Hyperparameter Tuning Job` and various `Training Jobs` to start. \n",
    "\n",
    "* All algorithms are optimized using a SageMaker Hyperparameter Tuning job. \n",
    "* Up to 250 training jobs (based on number of candidates specified) are selectively executed to find the best candidate model.\n",
    "\n",
    "<img src=\"img/autopilot-steps.png\" width=\"90%\" align=\"left\">"
   ]
  },
  {
   "cell_type": "markdown",
   "metadata": {},
   "source": [
    "**Autopilot Research Paper: https://assets.amazon.science/e8/8b/2366b1ab407990dec96e55ee5664/amazon-sagemaker-autopilot-a-white-box-automl-solution-at-scale.pdf**"
   ]
  },
  {
   "cell_type": "code",
   "execution_count": 34,
   "metadata": {},
   "outputs": [
    {
     "data": {
      "text/html": [
       "<b>Review <a target=\"blank\" href=\"https://console.aws.amazon.com/sagemaker/home?region=us-west-2#/hyper-tuning-jobs/\">Hyperparameter Tuning Jobs</a></b>"
      ],
      "text/plain": [
       "<IPython.core.display.HTML object>"
      ]
     },
     "metadata": {},
     "output_type": "display_data"
    }
   ],
   "source": [
    "from IPython.core.display import display, HTML\n",
    "\n",
    "display(HTML('<b>Review <a target=\"blank\" href=\"https://console.aws.amazon.com/sagemaker/home?region={}#/hyper-tuning-jobs/\">Hyperparameter Tuning Jobs</a></b>'.format(region)))\n"
   ]
  },
  {
   "cell_type": "code",
   "execution_count": 35,
   "metadata": {},
   "outputs": [
    {
     "data": {
      "text/html": [
       "<b>Review <a target=\"blank\" href=\"https://console.aws.amazon.com/sagemaker/home?region=us-west-2#/jobs/\">Training Jobs</a></b>"
      ],
      "text/plain": [
       "<IPython.core.display.HTML object>"
      ]
     },
     "metadata": {},
     "output_type": "display_data"
    }
   ],
   "source": [
    "from IPython.core.display import display, HTML\n",
    "\n",
    "display(HTML('<b>Review <a target=\"blank\" href=\"https://console.aws.amazon.com/sagemaker/home?region={}#/jobs/\">Training Jobs</a></b>'.format(region)))\n"
   ]
  },
  {
   "cell_type": "markdown",
   "metadata": {},
   "source": [
    "# The Next Cell Will Show `InProgress` For A Few Minutes.\n",
    "\n",
    "## _Please be patient._"
   ]
  },
  {
   "cell_type": "code",
   "execution_count": 36,
   "metadata": {
    "scrolled": true
   },
   "outputs": [
    {
     "name": "stdout",
     "output_type": "stream",
     "text": [
      "InProgress\n",
      "ModelTuning\n",
      "InProgress ModelTuning\n",
      "InProgress ModelTuning\n",
      "InProgress ModelTuning\n",
      "InProgress ModelTuning\n",
      "InProgress ModelTuning\n",
      "InProgress ModelTuning\n",
      "InProgress ModelTuning\n",
      "InProgress ModelTuning\n",
      "InProgress ModelTuning\n",
      "InProgress ModelTuning\n",
      "InProgress ModelTuning\n",
      "InProgress ModelTuning\n",
      "InProgress ModelTuning\n",
      "Completed MaxCandidatesReached\n",
      "[OK] Model tuning phase completed.\n",
      "\n",
      "{\n",
      "    \"AutoMLJobArn\": \"arn:aws:sagemaker:us-west-2:354474215062:automl-job/automl-dm-26-16-00-12\",\n",
      "    \"AutoMLJobArtifacts\": {\n",
      "        \"CandidateDefinitionNotebookLocation\": \"s3://sagemaker-us-west-2-354474215062/models/autopilot/automl-dm-26-16-00-12/sagemaker-automl-candidates/pr-1-a886accbab0c4430a4eca6b914181db78ecce53b4edb46c2862e5158b3/notebooks/SageMakerAutopilotCandidateDefinitionNotebook.ipynb\",\n",
      "        \"DataExplorationNotebookLocation\": \"s3://sagemaker-us-west-2-354474215062/models/autopilot/automl-dm-26-16-00-12/sagemaker-automl-candidates/pr-1-a886accbab0c4430a4eca6b914181db78ecce53b4edb46c2862e5158b3/notebooks/SageMakerAutopilotDataExplorationNotebook.ipynb\"\n",
      "    },\n",
      "    \"AutoMLJobConfig\": {\n",
      "        \"CompletionCriteria\": {\n",
      "            \"MaxAutoMLJobRuntimeInSeconds\": 3600,\n",
      "            \"MaxCandidates\": 3,\n",
      "            \"MaxRuntimePerTrainingJobInSeconds\": 600\n",
      "        }\n",
      "    },\n",
      "    \"AutoMLJobName\": \"automl-dm-26-16-00-12\",\n",
      "    \"AutoMLJobSecondaryStatus\": \"MaxCandidatesReached\",\n",
      "    \"AutoMLJobStatus\": \"Completed\",\n",
      "    \"BestCandidate\": {\n",
      "        \"CandidateName\": \"tuning-job-1-86d271dd7e4c49cc9c-001-d65099a5\",\n",
      "        \"CandidateStatus\": \"Completed\",\n",
      "        \"CandidateSteps\": [\n",
      "            {\n",
      "                \"CandidateStepArn\": \"arn:aws:sagemaker:us-west-2:354474215062:processing-job/db-1-0cdea6734aa244028c31e5111ceacbfc31b26d6775f246f9b3f2263cb6\",\n",
      "                \"CandidateStepName\": \"db-1-0cdea6734aa244028c31e5111ceacbfc31b26d6775f246f9b3f2263cb6\",\n",
      "                \"CandidateStepType\": \"AWS::SageMaker::ProcessingJob\"\n",
      "            },\n",
      "            {\n",
      "                \"CandidateStepArn\": \"arn:aws:sagemaker:us-west-2:354474215062:training-job/automl-dm--dpp2-1-eda4dfb38da5480795b08caa86b859ef4b68e62cd5144\",\n",
      "                \"CandidateStepName\": \"automl-dm--dpp2-1-eda4dfb38da5480795b08caa86b859ef4b68e62cd5144\",\n",
      "                \"CandidateStepType\": \"AWS::SageMaker::TrainingJob\"\n",
      "            },\n",
      "            {\n",
      "                \"CandidateStepArn\": \"arn:aws:sagemaker:us-west-2:354474215062:transform-job/automl-dm--dpp2-rpb-1-3ad11fc4c9ac491e8df73111e7a6f64201860e77c\",\n",
      "                \"CandidateStepName\": \"automl-dm--dpp2-rpb-1-3ad11fc4c9ac491e8df73111e7a6f64201860e77c\",\n",
      "                \"CandidateStepType\": \"AWS::SageMaker::TransformJob\"\n",
      "            },\n",
      "            {\n",
      "                \"CandidateStepArn\": \"arn:aws:sagemaker:us-west-2:354474215062:training-job/tuning-job-1-86d271dd7e4c49cc9c-001-d65099a5\",\n",
      "                \"CandidateStepName\": \"tuning-job-1-86d271dd7e4c49cc9c-001-d65099a5\",\n",
      "                \"CandidateStepType\": \"AWS::SageMaker::TrainingJob\"\n",
      "            }\n",
      "        ],\n",
      "        \"CreationTime\": \"2020-09-26 16:20:17+00:00\",\n",
      "        \"EndTime\": \"2020-09-26 16:21:14+00:00\",\n",
      "        \"FinalAutoMLJobObjectiveMetric\": {\n",
      "            \"MetricName\": \"validation:accuracy\",\n",
      "            \"Value\": 0.429610013961792\n",
      "        },\n",
      "        \"InferenceContainers\": [\n",
      "            {\n",
      "                \"Environment\": {\n",
      "                    \"AUTOML_SPARSE_ENCODE_RECORDIO_PROTOBUF\": \"1\",\n",
      "                    \"AUTOML_TRANSFORM_MODE\": \"feature-transform\",\n",
      "                    \"SAGEMAKER_DEFAULT_INVOCATIONS_ACCEPT\": \"application/x-recordio-protobuf\",\n",
      "                    \"SAGEMAKER_PROGRAM\": \"sagemaker_serve\",\n",
      "                    \"SAGEMAKER_SUBMIT_DIRECTORY\": \"/opt/ml/model/sagemaker_serve.py\"\n",
      "                },\n",
      "                \"Image\": \"246618743249.dkr.ecr.us-west-2.amazonaws.com/sagemaker-sklearn-automl:0.2-1-cpu-py3\",\n",
      "                \"ModelDataUrl\": \"s3://sagemaker-us-west-2-354474215062/models/autopilot/automl-dm-26-16-00-12/data-processor-models/automl-dm--dpp2-1-eda4dfb38da5480795b08caa86b859ef4b68e62cd5144/output/model.tar.gz\"\n",
      "            },\n",
      "            {\n",
      "                \"Environment\": {\n",
      "                    \"MAX_CONTENT_LENGTH\": \"20971520\",\n",
      "                    \"SAGEMAKER_DEFAULT_INVOCATIONS_ACCEPT\": \"text/csv\",\n",
      "                    \"SAGEMAKER_INFERENCE_OUTPUT\": \"predicted_label\",\n",
      "                    \"SAGEMAKER_INFERENCE_SUPPORTED\": \"predicted_label,probability,probabilities\"\n",
      "                },\n",
      "                \"Image\": \"246618743249.dkr.ecr.us-west-2.amazonaws.com/sagemaker-xgboost:1.0-1-cpu-py3\",\n",
      "                \"ModelDataUrl\": \"s3://sagemaker-us-west-2-354474215062/models/autopilot/automl-dm-26-16-00-12/tuning/automl-dm--dpp2-xgb/tuning-job-1-86d271dd7e4c49cc9c-001-d65099a5/output/model.tar.gz\"\n",
      "            },\n",
      "            {\n",
      "                \"Environment\": {\n",
      "                    \"AUTOML_TRANSFORM_MODE\": \"inverse-label-transform\",\n",
      "                    \"SAGEMAKER_DEFAULT_INVOCATIONS_ACCEPT\": \"text/csv\",\n",
      "                    \"SAGEMAKER_INFERENCE_INPUT\": \"predicted_label\",\n",
      "                    \"SAGEMAKER_INFERENCE_OUTPUT\": \"predicted_label\",\n",
      "                    \"SAGEMAKER_INFERENCE_SUPPORTED\": \"predicted_label,probability,labels,probabilities\",\n",
      "                    \"SAGEMAKER_PROGRAM\": \"sagemaker_serve\",\n",
      "                    \"SAGEMAKER_SUBMIT_DIRECTORY\": \"/opt/ml/model/sagemaker_serve.py\"\n",
      "                },\n",
      "                \"Image\": \"246618743249.dkr.ecr.us-west-2.amazonaws.com/sagemaker-sklearn-automl:0.2-1-cpu-py3\",\n",
      "                \"ModelDataUrl\": \"s3://sagemaker-us-west-2-354474215062/models/autopilot/automl-dm-26-16-00-12/data-processor-models/automl-dm--dpp2-1-eda4dfb38da5480795b08caa86b859ef4b68e62cd5144/output/model.tar.gz\"\n",
      "            }\n",
      "        ],\n",
      "        \"LastModifiedTime\": \"2020-09-26 16:21:52.843000+00:00\",\n",
      "        \"ObjectiveStatus\": \"Succeeded\"\n",
      "    },\n",
      "    \"CreationTime\": \"2020-09-26 16:01:50.873000+00:00\",\n",
      "    \"EndTime\": \"2020-09-26 16:21:53.728000+00:00\",\n",
      "    \"GenerateCandidateDefinitionsOnly\": false,\n",
      "    \"InputDataConfig\": [\n",
      "        {\n",
      "            \"DataSource\": {\n",
      "                \"S3DataSource\": {\n",
      "                    \"S3DataType\": \"S3Prefix\",\n",
      "                    \"S3Uri\": \"s3://sagemaker-us-west-2-354474215062/data/amazon_reviews_us_Digital_Software_v1_00_autopilot.csv\"\n",
      "                }\n",
      "            },\n",
      "            \"TargetAttributeName\": \"star_rating\"\n",
      "        }\n",
      "    ],\n",
      "    \"LastModifiedTime\": \"2020-09-26 16:21:53.768000+00:00\",\n",
      "    \"OutputDataConfig\": {\n",
      "        \"S3OutputPath\": \"s3://sagemaker-us-west-2-354474215062/models/autopilot\"\n",
      "    },\n",
      "    \"ResolvedAttributes\": {\n",
      "        \"AutoMLJobObjective\": {\n",
      "            \"MetricName\": \"Accuracy\"\n",
      "        },\n",
      "        \"CompletionCriteria\": {\n",
      "            \"MaxAutoMLJobRuntimeInSeconds\": 3600,\n",
      "            \"MaxCandidates\": 3,\n",
      "            \"MaxRuntimePerTrainingJobInSeconds\": 600\n",
      "        },\n",
      "        \"ProblemType\": \"MulticlassClassification\"\n",
      "    },\n",
      "    \"ResponseMetadata\": {\n",
      "        \"HTTPHeaders\": {\n",
      "            \"content-length\": \"4843\",\n",
      "            \"content-type\": \"application/x-amz-json-1.1\",\n",
      "            \"date\": \"Sat, 26 Sep 2020 16:21:54 GMT\",\n",
      "            \"x-amzn-requestid\": \"1175aa8e-0190-4ea0-be00-b9ace1f6799b\"\n",
      "        },\n",
      "        \"HTTPStatusCode\": 200,\n",
      "        \"RequestId\": \"1175aa8e-0190-4ea0-be00-b9ace1f6799b\",\n",
      "        \"RetryAttempts\": 0\n",
      "    },\n",
      "    \"RoleArn\": \"arn:aws:iam::354474215062:role/TeamRole\"\n",
      "}\n",
      "CPU times: user 157 ms, sys: 2.07 ms, total: 159 ms\n",
      "Wall time: 3min 31s\n"
     ]
    }
   ],
   "source": [
    "%%time\n",
    "\n",
    "job_description_response = sm.describe_auto_ml_job(AutoMLJobName=auto_ml_job_name)\n",
    "job_status = job_description_response['AutoMLJobStatus']\n",
    "job_sec_status = job_description_response['AutoMLJobSecondaryStatus']\n",
    "print(job_status)\n",
    "print(job_sec_status)\n",
    "if job_status not in ('Stopped', 'Failed'):\n",
    "    while job_status in ('InProgress') and job_sec_status in ('ModelTuning'):\n",
    "        job_description_response = sm.describe_auto_ml_job(AutoMLJobName=auto_ml_job_name)\n",
    "        job_status = job_description_response['AutoMLJobStatus']\n",
    "        job_sec_status = job_description_response['AutoMLJobSecondaryStatus']\n",
    "        print(job_status, job_sec_status)\n",
    "        sleep(15)\n",
    "    print('[OK] Model tuning phase completed.\\n')\n",
    "    \n",
    "print(json.dumps(job_description_response, indent=4, sort_keys=True, default=str))"
   ]
  },
  {
   "cell_type": "markdown",
   "metadata": {},
   "source": [
    "# _Please Wait Until ^^ Autopilot ^^ Completes Above_\n",
    "\n",
    "# [INFO] _Feel free to continue to the next workshop section while this notebook is running._"
   ]
  },
  {
   "cell_type": "markdown",
   "metadata": {},
   "source": [
    "Make sure the status below indicates `Completed`."
   ]
  },
  {
   "cell_type": "code",
   "execution_count": 37,
   "metadata": {},
   "outputs": [],
   "source": [
    "if job_status not in ('Completed'):\n",
    "    print('************************************************************')\n",
    "    print('[ERROR] THIS JOB DID NOT COMPLETE PROPERLY. ****************')\n",
    "    print('[ERROR] LOOK IN PREVIOUS CELLS TO FIND THE ISSUE. **********')    \n",
    "    print('************************************************************')"
   ]
  },
  {
   "cell_type": "markdown",
   "metadata": {},
   "source": [
    "# Viewing All Candidates\n",
    "Once model tuning is complete, you can view all the candidates (pipeline evaluations with different hyperparameter combinations) that were explored by AutoML and sort them by their final performance metric."
   ]
  },
  {
   "cell_type": "code",
   "execution_count": 38,
   "metadata": {},
   "outputs": [],
   "source": [
    "candidates_response = sm.list_candidates_for_auto_ml_job(AutoMLJobName=auto_ml_job_name, \n",
    "                                                         SortBy='FinalObjectiveMetricValue')"
   ]
  },
  {
   "cell_type": "markdown",
   "metadata": {},
   "source": [
    "### Check that candidates exist"
   ]
  },
  {
   "cell_type": "code",
   "execution_count": 39,
   "metadata": {},
   "outputs": [
    {
     "name": "stdout",
     "output_type": "stream",
     "text": [
      "[OK]\n"
     ]
    }
   ],
   "source": [
    "if not candidates_response:\n",
    "    print('[ERROR] THE JOB DID NOT COMPLETE PROPERLY. LOOK IN PREVIOUS CELLS TO FIND THE ISSUE.')\n",
    "else:\n",
    "    candidates = candidates_response['Candidates']\n",
    "    print('[OK]')"
   ]
  },
  {
   "cell_type": "code",
   "execution_count": 40,
   "metadata": {},
   "outputs": [
    {
     "name": "stdout",
     "output_type": "stream",
     "text": [
      "[OK]\n"
     ]
    }
   ],
   "source": [
    "if not candidates:\n",
    "    print('[ERROR] THE JOB DID NOT COMPLETE PROPERLY. LOOK IN PREVIOUS CELLS TO FIND THE ISSUE.')\n",
    "elif 'CandidateName' not in candidates[0]:\n",
    "    print('[ERROR] THE JOB DID NOT COMPLETE PROPERLY. LOOK IN PREVIOUS CELLS TO FIND THE ISSUE.')\n",
    "elif 'FinalAutoMLJobObjectiveMetric' not in candidates[0]:\n",
    "    print('[ERROR] THE JOB DID NOT COMPLETE PROPERLY. LOOK IN PREVIOUS CELLS TO FIND THE ISSUE.')\n",
    "else:\n",
    "    print('[OK]')"
   ]
  },
  {
   "cell_type": "code",
   "execution_count": 41,
   "metadata": {},
   "outputs": [
    {
     "name": "stdout",
     "output_type": "stream",
     "text": [
      "[\n",
      "    {\n",
      "        \"CandidateName\": \"tuning-job-1-86d271dd7e4c49cc9c-001-d65099a5\",\n",
      "        \"CandidateStatus\": \"Completed\",\n",
      "        \"CandidateSteps\": [\n",
      "            {\n",
      "                \"CandidateStepArn\": \"arn:aws:sagemaker:us-west-2:354474215062:processing-job/db-1-0cdea6734aa244028c31e5111ceacbfc31b26d6775f246f9b3f2263cb6\",\n",
      "                \"CandidateStepName\": \"db-1-0cdea6734aa244028c31e5111ceacbfc31b26d6775f246f9b3f2263cb6\",\n",
      "                \"CandidateStepType\": \"AWS::SageMaker::ProcessingJob\"\n",
      "            },\n",
      "            {\n",
      "                \"CandidateStepArn\": \"arn:aws:sagemaker:us-west-2:354474215062:training-job/automl-dm--dpp2-1-eda4dfb38da5480795b08caa86b859ef4b68e62cd5144\",\n",
      "                \"CandidateStepName\": \"automl-dm--dpp2-1-eda4dfb38da5480795b08caa86b859ef4b68e62cd5144\",\n",
      "                \"CandidateStepType\": \"AWS::SageMaker::TrainingJob\"\n",
      "            },\n",
      "            {\n",
      "                \"CandidateStepArn\": \"arn:aws:sagemaker:us-west-2:354474215062:transform-job/automl-dm--dpp2-rpb-1-3ad11fc4c9ac491e8df73111e7a6f64201860e77c\",\n",
      "                \"CandidateStepName\": \"automl-dm--dpp2-rpb-1-3ad11fc4c9ac491e8df73111e7a6f64201860e77c\",\n",
      "                \"CandidateStepType\": \"AWS::SageMaker::TransformJob\"\n",
      "            },\n",
      "            {\n",
      "                \"CandidateStepArn\": \"arn:aws:sagemaker:us-west-2:354474215062:training-job/tuning-job-1-86d271dd7e4c49cc9c-001-d65099a5\",\n",
      "                \"CandidateStepName\": \"tuning-job-1-86d271dd7e4c49cc9c-001-d65099a5\",\n",
      "                \"CandidateStepType\": \"AWS::SageMaker::TrainingJob\"\n",
      "            }\n",
      "        ],\n",
      "        \"CreationTime\": \"2020-09-26 16:20:17+00:00\",\n",
      "        \"EndTime\": \"2020-09-26 16:21:14+00:00\",\n",
      "        \"FinalAutoMLJobObjectiveMetric\": {\n",
      "            \"MetricName\": \"validation:accuracy\",\n",
      "            \"Value\": 0.429610013961792\n",
      "        },\n",
      "        \"InferenceContainers\": [\n",
      "            {\n",
      "                \"Environment\": {\n",
      "                    \"AUTOML_SPARSE_ENCODE_RECORDIO_PROTOBUF\": \"1\",\n",
      "                    \"AUTOML_TRANSFORM_MODE\": \"feature-transform\",\n",
      "                    \"SAGEMAKER_DEFAULT_INVOCATIONS_ACCEPT\": \"application/x-recordio-protobuf\",\n",
      "                    \"SAGEMAKER_PROGRAM\": \"sagemaker_serve\",\n",
      "                    \"SAGEMAKER_SUBMIT_DIRECTORY\": \"/opt/ml/model/sagemaker_serve.py\"\n",
      "                },\n",
      "                \"Image\": \"246618743249.dkr.ecr.us-west-2.amazonaws.com/sagemaker-sklearn-automl:0.2-1-cpu-py3\",\n",
      "                \"ModelDataUrl\": \"s3://sagemaker-us-west-2-354474215062/models/autopilot/automl-dm-26-16-00-12/data-processor-models/automl-dm--dpp2-1-eda4dfb38da5480795b08caa86b859ef4b68e62cd5144/output/model.tar.gz\"\n",
      "            },\n",
      "            {\n",
      "                \"Environment\": {\n",
      "                    \"MAX_CONTENT_LENGTH\": \"20971520\",\n",
      "                    \"SAGEMAKER_DEFAULT_INVOCATIONS_ACCEPT\": \"text/csv\",\n",
      "                    \"SAGEMAKER_INFERENCE_OUTPUT\": \"predicted_label\",\n",
      "                    \"SAGEMAKER_INFERENCE_SUPPORTED\": \"predicted_label,probability,probabilities\"\n",
      "                },\n",
      "                \"Image\": \"246618743249.dkr.ecr.us-west-2.amazonaws.com/sagemaker-xgboost:1.0-1-cpu-py3\",\n",
      "                \"ModelDataUrl\": \"s3://sagemaker-us-west-2-354474215062/models/autopilot/automl-dm-26-16-00-12/tuning/automl-dm--dpp2-xgb/tuning-job-1-86d271dd7e4c49cc9c-001-d65099a5/output/model.tar.gz\"\n",
      "            },\n",
      "            {\n",
      "                \"Environment\": {\n",
      "                    \"AUTOML_TRANSFORM_MODE\": \"inverse-label-transform\",\n",
      "                    \"SAGEMAKER_DEFAULT_INVOCATIONS_ACCEPT\": \"text/csv\",\n",
      "                    \"SAGEMAKER_INFERENCE_INPUT\": \"predicted_label\",\n",
      "                    \"SAGEMAKER_INFERENCE_OUTPUT\": \"predicted_label\",\n",
      "                    \"SAGEMAKER_INFERENCE_SUPPORTED\": \"predicted_label,probability,labels,probabilities\",\n",
      "                    \"SAGEMAKER_PROGRAM\": \"sagemaker_serve\",\n",
      "                    \"SAGEMAKER_SUBMIT_DIRECTORY\": \"/opt/ml/model/sagemaker_serve.py\"\n",
      "                },\n",
      "                \"Image\": \"246618743249.dkr.ecr.us-west-2.amazonaws.com/sagemaker-sklearn-automl:0.2-1-cpu-py3\",\n",
      "                \"ModelDataUrl\": \"s3://sagemaker-us-west-2-354474215062/models/autopilot/automl-dm-26-16-00-12/data-processor-models/automl-dm--dpp2-1-eda4dfb38da5480795b08caa86b859ef4b68e62cd5144/output/model.tar.gz\"\n",
      "            }\n",
      "        ],\n",
      "        \"LastModifiedTime\": \"2020-09-26 16:21:52.768000+00:00\",\n",
      "        \"ObjectiveStatus\": \"Succeeded\"\n",
      "    },\n",
      "    {\n",
      "        \"CandidateName\": \"tuning-job-1-86d271dd7e4c49cc9c-003-2c9c213a\",\n",
      "        \"CandidateStatus\": \"Completed\",\n",
      "        \"CandidateSteps\": [\n",
      "            {\n",
      "                \"CandidateStepArn\": \"arn:aws:sagemaker:us-west-2:354474215062:processing-job/db-1-0cdea6734aa244028c31e5111ceacbfc31b26d6775f246f9b3f2263cb6\",\n",
      "                \"CandidateStepName\": \"db-1-0cdea6734aa244028c31e5111ceacbfc31b26d6775f246f9b3f2263cb6\",\n",
      "                \"CandidateStepType\": \"AWS::SageMaker::ProcessingJob\"\n",
      "            },\n",
      "            {\n",
      "                \"CandidateStepArn\": \"arn:aws:sagemaker:us-west-2:354474215062:training-job/automl-dm--dpp0-1-47b4d6a2b68a48c0b937419ec5af7d9c5cdc2d818f574\",\n",
      "                \"CandidateStepName\": \"automl-dm--dpp0-1-47b4d6a2b68a48c0b937419ec5af7d9c5cdc2d818f574\",\n",
      "                \"CandidateStepType\": \"AWS::SageMaker::TrainingJob\"\n",
      "            },\n",
      "            {\n",
      "                \"CandidateStepArn\": \"arn:aws:sagemaker:us-west-2:354474215062:transform-job/automl-dm--dpp0-rpb-1-606d4c3e45b442a092158733874507c35ee7da68c\",\n",
      "                \"CandidateStepName\": \"automl-dm--dpp0-rpb-1-606d4c3e45b442a092158733874507c35ee7da68c\",\n",
      "                \"CandidateStepType\": \"AWS::SageMaker::TransformJob\"\n",
      "            },\n",
      "            {\n",
      "                \"CandidateStepArn\": \"arn:aws:sagemaker:us-west-2:354474215062:training-job/tuning-job-1-86d271dd7e4c49cc9c-003-2c9c213a\",\n",
      "                \"CandidateStepName\": \"tuning-job-1-86d271dd7e4c49cc9c-003-2c9c213a\",\n",
      "                \"CandidateStepType\": \"AWS::SageMaker::TrainingJob\"\n",
      "            }\n",
      "        ],\n",
      "        \"CreationTime\": \"2020-09-26 16:20:41+00:00\",\n",
      "        \"EndTime\": \"2020-09-26 16:21:30+00:00\",\n",
      "        \"FinalAutoMLJobObjectiveMetric\": {\n",
      "            \"MetricName\": \"validation:accuracy\",\n",
      "            \"Value\": 0.35010001063346863\n",
      "        },\n",
      "        \"InferenceContainers\": [\n",
      "            {\n",
      "                \"Environment\": {\n",
      "                    \"AUTOML_SPARSE_ENCODE_RECORDIO_PROTOBUF\": \"1\",\n",
      "                    \"AUTOML_TRANSFORM_MODE\": \"feature-transform\",\n",
      "                    \"SAGEMAKER_DEFAULT_INVOCATIONS_ACCEPT\": \"application/x-recordio-protobuf\",\n",
      "                    \"SAGEMAKER_PROGRAM\": \"sagemaker_serve\",\n",
      "                    \"SAGEMAKER_SUBMIT_DIRECTORY\": \"/opt/ml/model/sagemaker_serve.py\"\n",
      "                },\n",
      "                \"Image\": \"246618743249.dkr.ecr.us-west-2.amazonaws.com/sagemaker-sklearn-automl:0.2-1-cpu-py3\",\n",
      "                \"ModelDataUrl\": \"s3://sagemaker-us-west-2-354474215062/models/autopilot/automl-dm-26-16-00-12/data-processor-models/automl-dm--dpp0-1-47b4d6a2b68a48c0b937419ec5af7d9c5cdc2d818f574/output/model.tar.gz\"\n",
      "            },\n",
      "            {\n",
      "                \"Environment\": {\n",
      "                    \"MAX_CONTENT_LENGTH\": \"20971520\",\n",
      "                    \"SAGEMAKER_DEFAULT_INVOCATIONS_ACCEPT\": \"text/csv\",\n",
      "                    \"SAGEMAKER_INFERENCE_OUTPUT\": \"predicted_label\",\n",
      "                    \"SAGEMAKER_INFERENCE_SUPPORTED\": \"predicted_label,probability,probabilities\"\n",
      "                },\n",
      "                \"Image\": \"246618743249.dkr.ecr.us-west-2.amazonaws.com/sagemaker-xgboost:1.0-1-cpu-py3\",\n",
      "                \"ModelDataUrl\": \"s3://sagemaker-us-west-2-354474215062/models/autopilot/automl-dm-26-16-00-12/tuning/automl-dm--dpp0-xgb/tuning-job-1-86d271dd7e4c49cc9c-003-2c9c213a/output/model.tar.gz\"\n",
      "            },\n",
      "            {\n",
      "                \"Environment\": {\n",
      "                    \"AUTOML_TRANSFORM_MODE\": \"inverse-label-transform\",\n",
      "                    \"SAGEMAKER_DEFAULT_INVOCATIONS_ACCEPT\": \"text/csv\",\n",
      "                    \"SAGEMAKER_INFERENCE_INPUT\": \"predicted_label\",\n",
      "                    \"SAGEMAKER_INFERENCE_OUTPUT\": \"predicted_label\",\n",
      "                    \"SAGEMAKER_INFERENCE_SUPPORTED\": \"predicted_label,probability,labels,probabilities\",\n",
      "                    \"SAGEMAKER_PROGRAM\": \"sagemaker_serve\",\n",
      "                    \"SAGEMAKER_SUBMIT_DIRECTORY\": \"/opt/ml/model/sagemaker_serve.py\"\n",
      "                },\n",
      "                \"Image\": \"246618743249.dkr.ecr.us-west-2.amazonaws.com/sagemaker-sklearn-automl:0.2-1-cpu-py3\",\n",
      "                \"ModelDataUrl\": \"s3://sagemaker-us-west-2-354474215062/models/autopilot/automl-dm-26-16-00-12/data-processor-models/automl-dm--dpp0-1-47b4d6a2b68a48c0b937419ec5af7d9c5cdc2d818f574/output/model.tar.gz\"\n",
      "            }\n",
      "        ],\n",
      "        \"LastModifiedTime\": \"2020-09-26 16:21:52.768000+00:00\",\n",
      "        \"ObjectiveStatus\": \"Succeeded\"\n",
      "    },\n",
      "    {\n",
      "        \"CandidateName\": \"tuning-job-1-86d271dd7e4c49cc9c-002-b65edfd7\",\n",
      "        \"CandidateStatus\": \"Completed\",\n",
      "        \"CandidateSteps\": [\n",
      "            {\n",
      "                \"CandidateStepArn\": \"arn:aws:sagemaker:us-west-2:354474215062:processing-job/db-1-0cdea6734aa244028c31e5111ceacbfc31b26d6775f246f9b3f2263cb6\",\n",
      "                \"CandidateStepName\": \"db-1-0cdea6734aa244028c31e5111ceacbfc31b26d6775f246f9b3f2263cb6\",\n",
      "                \"CandidateStepType\": \"AWS::SageMaker::ProcessingJob\"\n",
      "            },\n",
      "            {\n",
      "                \"CandidateStepArn\": \"arn:aws:sagemaker:us-west-2:354474215062:training-job/automl-dm--dpp2-1-eda4dfb38da5480795b08caa86b859ef4b68e62cd5144\",\n",
      "                \"CandidateStepName\": \"automl-dm--dpp2-1-eda4dfb38da5480795b08caa86b859ef4b68e62cd5144\",\n",
      "                \"CandidateStepType\": \"AWS::SageMaker::TrainingJob\"\n",
      "            },\n",
      "            {\n",
      "                \"CandidateStepArn\": \"arn:aws:sagemaker:us-west-2:354474215062:transform-job/automl-dm--dpp2-rpb-1-3ad11fc4c9ac491e8df73111e7a6f64201860e77c\",\n",
      "                \"CandidateStepName\": \"automl-dm--dpp2-rpb-1-3ad11fc4c9ac491e8df73111e7a6f64201860e77c\",\n",
      "                \"CandidateStepType\": \"AWS::SageMaker::TransformJob\"\n",
      "            },\n",
      "            {\n",
      "                \"CandidateStepArn\": \"arn:aws:sagemaker:us-west-2:354474215062:training-job/tuning-job-1-86d271dd7e4c49cc9c-002-b65edfd7\",\n",
      "                \"CandidateStepName\": \"tuning-job-1-86d271dd7e4c49cc9c-002-b65edfd7\",\n",
      "                \"CandidateStepType\": \"AWS::SageMaker::TrainingJob\"\n",
      "            }\n",
      "        ],\n",
      "        \"CreationTime\": \"2020-09-26 16:20:07+00:00\",\n",
      "        \"EndTime\": \"2020-09-26 16:20:53+00:00\",\n",
      "        \"FinalAutoMLJobObjectiveMetric\": {\n",
      "            \"MetricName\": \"validation:accuracy\",\n",
      "            \"Value\": 0.3491399884223938\n",
      "        },\n",
      "        \"InferenceContainers\": [\n",
      "            {\n",
      "                \"Environment\": {\n",
      "                    \"AUTOML_SPARSE_ENCODE_RECORDIO_PROTOBUF\": \"1\",\n",
      "                    \"AUTOML_TRANSFORM_MODE\": \"feature-transform\",\n",
      "                    \"SAGEMAKER_DEFAULT_INVOCATIONS_ACCEPT\": \"application/x-recordio-protobuf\",\n",
      "                    \"SAGEMAKER_PROGRAM\": \"sagemaker_serve\",\n",
      "                    \"SAGEMAKER_SUBMIT_DIRECTORY\": \"/opt/ml/model/sagemaker_serve.py\"\n",
      "                },\n",
      "                \"Image\": \"246618743249.dkr.ecr.us-west-2.amazonaws.com/sagemaker-sklearn-automl:0.2-1-cpu-py3\",\n",
      "                \"ModelDataUrl\": \"s3://sagemaker-us-west-2-354474215062/models/autopilot/automl-dm-26-16-00-12/data-processor-models/automl-dm--dpp2-1-eda4dfb38da5480795b08caa86b859ef4b68e62cd5144/output/model.tar.gz\"\n",
      "            },\n",
      "            {\n",
      "                \"Environment\": {\n",
      "                    \"MAX_CONTENT_LENGTH\": \"20971520\",\n",
      "                    \"SAGEMAKER_DEFAULT_INVOCATIONS_ACCEPT\": \"text/csv\",\n",
      "                    \"SAGEMAKER_INFERENCE_OUTPUT\": \"predicted_label\",\n",
      "                    \"SAGEMAKER_INFERENCE_SUPPORTED\": \"predicted_label,probability,probabilities\"\n",
      "                },\n",
      "                \"Image\": \"246618743249.dkr.ecr.us-west-2.amazonaws.com/sagemaker-xgboost:1.0-1-cpu-py3\",\n",
      "                \"ModelDataUrl\": \"s3://sagemaker-us-west-2-354474215062/models/autopilot/automl-dm-26-16-00-12/tuning/automl-dm--dpp2-xgb/tuning-job-1-86d271dd7e4c49cc9c-002-b65edfd7/output/model.tar.gz\"\n",
      "            },\n",
      "            {\n",
      "                \"Environment\": {\n",
      "                    \"AUTOML_TRANSFORM_MODE\": \"inverse-label-transform\",\n",
      "                    \"SAGEMAKER_DEFAULT_INVOCATIONS_ACCEPT\": \"text/csv\",\n",
      "                    \"SAGEMAKER_INFERENCE_INPUT\": \"predicted_label\",\n",
      "                    \"SAGEMAKER_INFERENCE_OUTPUT\": \"predicted_label\",\n",
      "                    \"SAGEMAKER_INFERENCE_SUPPORTED\": \"predicted_label,probability,labels,probabilities\",\n",
      "                    \"SAGEMAKER_PROGRAM\": \"sagemaker_serve\",\n",
      "                    \"SAGEMAKER_SUBMIT_DIRECTORY\": \"/opt/ml/model/sagemaker_serve.py\"\n",
      "                },\n",
      "                \"Image\": \"246618743249.dkr.ecr.us-west-2.amazonaws.com/sagemaker-sklearn-automl:0.2-1-cpu-py3\",\n",
      "                \"ModelDataUrl\": \"s3://sagemaker-us-west-2-354474215062/models/autopilot/automl-dm-26-16-00-12/data-processor-models/automl-dm--dpp2-1-eda4dfb38da5480795b08caa86b859ef4b68e62cd5144/output/model.tar.gz\"\n",
      "            }\n",
      "        ],\n",
      "        \"LastModifiedTime\": \"2020-09-26 16:21:52.768000+00:00\",\n",
      "        \"ObjectiveStatus\": \"Succeeded\"\n",
      "    }\n",
      "]\n"
     ]
    }
   ],
   "source": [
    "print(json.dumps(candidates, indent=4, sort_keys=True, default=str))"
   ]
  },
  {
   "cell_type": "code",
   "execution_count": 42,
   "metadata": {},
   "outputs": [
    {
     "name": "stdout",
     "output_type": "stream",
     "text": [
      "0  tuning-job-1-86d271dd7e4c49cc9c-001-d65099a5  0.429610013961792\n",
      "1  tuning-job-1-86d271dd7e4c49cc9c-003-2c9c213a  0.35010001063346863\n",
      "2  tuning-job-1-86d271dd7e4c49cc9c-002-b65edfd7  0.3491399884223938\n"
     ]
    }
   ],
   "source": [
    "for index, candidate in enumerate(candidates):\n",
    "    print(str(index) + \"  \" \n",
    "        + candidate['CandidateName'] + \"  \" \n",
    "        + str(candidate['FinalAutoMLJobObjectiveMetric']['Value']))"
   ]
  },
  {
   "cell_type": "markdown",
   "metadata": {},
   "source": [
    "# Inspect Trials using Experiments API\n",
    "\n",
    "SageMaker Autopilot automatically creates a new experiment, and pushes information for each trial. "
   ]
  },
  {
   "cell_type": "code",
   "execution_count": 43,
   "metadata": {},
   "outputs": [
    {
     "name": "stdout",
     "output_type": "stream",
     "text": [
      "                                  TrialComponentName  \\\n",
      "0  tuning-job-1-86d271dd7e4c49cc9c-003-2c9c213a-a...   \n",
      "1  tuning-job-1-86d271dd7e4c49cc9c-001-d65099a5-a...   \n",
      "2  tuning-job-1-86d271dd7e4c49cc9c-002-b65edfd7-a...   \n",
      "3  automl-dm--dpp0-rpb-1-606d4c3e45b442a092158733...   \n",
      "4  automl-dm--dpp2-rpb-1-3ad11fc4c9ac491e8df73111...   \n",
      "5  automl-dm--dpp2-1-eda4dfb38da5480795b08caa86b8...   \n",
      "6  automl-dm--dpp0-1-47b4d6a2b68a48c0b937419ec5af...   \n",
      "7  db-1-0cdea6734aa244028c31e5111ceacbfc31b26d677...   \n",
      "\n",
      "                                         DisplayName  \\\n",
      "0  tuning-job-1-86d271dd7e4c49cc9c-003-2c9c213a-a...   \n",
      "1  tuning-job-1-86d271dd7e4c49cc9c-001-d65099a5-a...   \n",
      "2  tuning-job-1-86d271dd7e4c49cc9c-002-b65edfd7-a...   \n",
      "3  automl-dm--dpp0-rpb-1-606d4c3e45b442a092158733...   \n",
      "4  automl-dm--dpp2-rpb-1-3ad11fc4c9ac491e8df73111...   \n",
      "5  automl-dm--dpp2-1-eda4dfb38da5480795b08caa86b8...   \n",
      "6  automl-dm--dpp0-1-47b4d6a2b68a48c0b937419ec5af...   \n",
      "7  db-1-0cdea6734aa244028c31e5111ceacbfc31b26d677...   \n",
      "\n",
      "                                           SourceArn  \\\n",
      "0  arn:aws:sagemaker:us-west-2:354474215062:train...   \n",
      "1  arn:aws:sagemaker:us-west-2:354474215062:train...   \n",
      "2  arn:aws:sagemaker:us-west-2:354474215062:train...   \n",
      "3  arn:aws:sagemaker:us-west-2:354474215062:trans...   \n",
      "4  arn:aws:sagemaker:us-west-2:354474215062:trans...   \n",
      "5  arn:aws:sagemaker:us-west-2:354474215062:train...   \n",
      "6  arn:aws:sagemaker:us-west-2:354474215062:train...   \n",
      "7  arn:aws:sagemaker:us-west-2:354474215062:proce...   \n",
      "\n",
      "                                  SageMaker.ImageUri  SageMaker.InstanceCount  \\\n",
      "0  246618743249.dkr.ecr.us-west-2.amazonaws.com/s...                      1.0   \n",
      "1  246618743249.dkr.ecr.us-west-2.amazonaws.com/s...                      1.0   \n",
      "2  246618743249.dkr.ecr.us-west-2.amazonaws.com/s...                      1.0   \n",
      "3                                                NaN                      1.0   \n",
      "4                                                NaN                      1.0   \n",
      "5  246618743249.dkr.ecr.us-west-2.amazonaws.com/s...                      1.0   \n",
      "6  246618743249.dkr.ecr.us-west-2.amazonaws.com/s...                      1.0   \n",
      "7                                                NaN                      1.0   \n",
      "\n",
      "  SageMaker.InstanceType  SageMaker.VolumeSizeInGB _tuning_objective_metric  \\\n",
      "0          ml.m5.4xlarge                      50.0      validation:accuracy   \n",
      "1          ml.m5.4xlarge                      50.0      validation:accuracy   \n",
      "2          ml.m5.4xlarge                      50.0      validation:accuracy   \n",
      "3          ml.m5.4xlarge                       NaN                      NaN   \n",
      "4          ml.m5.4xlarge                       NaN                      NaN   \n",
      "5          ml.m5.4xlarge                      50.0                      NaN   \n",
      "6          ml.m5.4xlarge                      50.0                      NaN   \n",
      "7          ml.m5.2xlarge                     250.0                      NaN   \n",
      "\n",
      "      alpha  colsample_bytree  ...    code - MediaType  \\\n",
      "0  0.000037          0.964084  ...                 NaN   \n",
      "1  0.000003          0.587300  ...                 NaN   \n",
      "2  0.000037          0.964084  ...                 NaN   \n",
      "3       NaN               NaN  ...                 NaN   \n",
      "4       NaN               NaN  ...                 NaN   \n",
      "5       NaN               NaN  ...  application/x-code   \n",
      "6       NaN               NaN  ...  application/x-code   \n",
      "7       NaN               NaN  ...                 NaN   \n",
      "\n",
      "                                        code - Value  input_channel_mode  \\\n",
      "0                                                NaN                 NaN   \n",
      "1                                                NaN                 NaN   \n",
      "2                                                NaN                 NaN   \n",
      "3                                                NaN                 NaN   \n",
      "4                                                NaN                 NaN   \n",
      "5  s3://sagemaker-us-west-2-354474215062/models/a...                 NaN   \n",
      "6  s3://sagemaker-us-west-2-354474215062/models/a...                 NaN   \n",
      "7                                                NaN                Pipe   \n",
      "\n",
      "                job_name    label_col  max_dataset_size  \\\n",
      "0                    NaN          NaN               NaN   \n",
      "1                    NaN          NaN               NaN   \n",
      "2                    NaN          NaN               NaN   \n",
      "3                    NaN          NaN               NaN   \n",
      "4                    NaN          NaN               NaN   \n",
      "5                    NaN          NaN               NaN   \n",
      "6                    NaN          NaN               NaN   \n",
      "7  automl-dm-26-16-00-12  star_rating                 5   \n",
      "\n",
      "   SageMaker.ImageUri - MediaType  \\\n",
      "0                             NaN   \n",
      "1                             NaN   \n",
      "2                             NaN   \n",
      "3                             NaN   \n",
      "4                             NaN   \n",
      "5                             NaN   \n",
      "6                             NaN   \n",
      "7                             NaN   \n",
      "\n",
      "                          SageMaker.ImageUri - Value ds - MediaType  \\\n",
      "0                                                NaN            NaN   \n",
      "1                                                NaN            NaN   \n",
      "2                                                NaN            NaN   \n",
      "3                                                NaN            NaN   \n",
      "4                                                NaN            NaN   \n",
      "5                                                NaN            NaN   \n",
      "6                                                NaN            NaN   \n",
      "7  685499690500.dkr.ecr.us-west-2.amazonaws.com/d...            NaN   \n",
      "\n",
      "                                          ds - Value  \n",
      "0                                                NaN  \n",
      "1                                                NaN  \n",
      "2                                                NaN  \n",
      "3                                                NaN  \n",
      "4                                                NaN  \n",
      "5                                                NaN  \n",
      "6                                                NaN  \n",
      "7  s3://sagemaker-us-west-2-354474215062/models/a...  \n",
      "\n",
      "[8 rows x 78 columns]\n"
     ]
    }
   ],
   "source": [
    "from sagemaker.analytics import ExperimentAnalytics, TrainingJobAnalytics\n",
    "\n",
    "exp = ExperimentAnalytics(\n",
    "    sagemaker_session=sess, \n",
    "    experiment_name=auto_ml_job_name + '-aws-auto-ml-job',\n",
    ")\n",
    "\n",
    "df = exp.dataframe()\n",
    "print(df)"
   ]
  },
  {
   "cell_type": "markdown",
   "metadata": {},
   "source": [
    "# Explore the Best Candidate\n",
    "Now that we have successfully completed the AutoML job on our dataset and visualized the trials, we can create a model from any of the trials with a single API call and then deploy that model for online or batch prediction using [Inference Pipelines](https://docs.aws.amazon.com/sagemaker/latest/dg/inference-pipelines.html). For this notebook, we deploy only the best performing trial for inference."
   ]
  },
  {
   "cell_type": "markdown",
   "metadata": {},
   "source": [
    "The best candidate is the one we're really interested in."
   ]
  },
  {
   "cell_type": "code",
   "execution_count": 44,
   "metadata": {},
   "outputs": [],
   "source": [
    "best_candidate_response = sm.describe_auto_ml_job(AutoMLJobName=auto_ml_job_name)"
   ]
  },
  {
   "cell_type": "code",
   "execution_count": 45,
   "metadata": {},
   "outputs": [
    {
     "name": "stdout",
     "output_type": "stream",
     "text": [
      "[OK]\n"
     ]
    }
   ],
   "source": [
    "if not best_candidate_response:\n",
    "    print('[ERROR] THE JOB DID NOT COMPLETE PROPERLY. LOOK IN PREVIOUS CELLS TO FIND THE ISSUE.')\n",
    "else:\n",
    "    best_candidate = best_candidate_response['BestCandidate']\n",
    "    print('[OK]')"
   ]
  },
  {
   "cell_type": "code",
   "execution_count": 46,
   "metadata": {},
   "outputs": [
    {
     "name": "stdout",
     "output_type": "stream",
     "text": [
      "{\n",
      "    \"AutoMLJobArn\": \"arn:aws:sagemaker:us-west-2:354474215062:automl-job/automl-dm-26-16-00-12\",\n",
      "    \"AutoMLJobArtifacts\": {\n",
      "        \"CandidateDefinitionNotebookLocation\": \"s3://sagemaker-us-west-2-354474215062/models/autopilot/automl-dm-26-16-00-12/sagemaker-automl-candidates/pr-1-a886accbab0c4430a4eca6b914181db78ecce53b4edb46c2862e5158b3/notebooks/SageMakerAutopilotCandidateDefinitionNotebook.ipynb\",\n",
      "        \"DataExplorationNotebookLocation\": \"s3://sagemaker-us-west-2-354474215062/models/autopilot/automl-dm-26-16-00-12/sagemaker-automl-candidates/pr-1-a886accbab0c4430a4eca6b914181db78ecce53b4edb46c2862e5158b3/notebooks/SageMakerAutopilotDataExplorationNotebook.ipynb\"\n",
      "    },\n",
      "    \"AutoMLJobConfig\": {\n",
      "        \"CompletionCriteria\": {\n",
      "            \"MaxAutoMLJobRuntimeInSeconds\": 3600,\n",
      "            \"MaxCandidates\": 3,\n",
      "            \"MaxRuntimePerTrainingJobInSeconds\": 600\n",
      "        }\n",
      "    },\n",
      "    \"AutoMLJobName\": \"automl-dm-26-16-00-12\",\n",
      "    \"AutoMLJobSecondaryStatus\": \"MaxCandidatesReached\",\n",
      "    \"AutoMLJobStatus\": \"Completed\",\n",
      "    \"BestCandidate\": {\n",
      "        \"CandidateName\": \"tuning-job-1-86d271dd7e4c49cc9c-001-d65099a5\",\n",
      "        \"CandidateStatus\": \"Completed\",\n",
      "        \"CandidateSteps\": [\n",
      "            {\n",
      "                \"CandidateStepArn\": \"arn:aws:sagemaker:us-west-2:354474215062:processing-job/db-1-0cdea6734aa244028c31e5111ceacbfc31b26d6775f246f9b3f2263cb6\",\n",
      "                \"CandidateStepName\": \"db-1-0cdea6734aa244028c31e5111ceacbfc31b26d6775f246f9b3f2263cb6\",\n",
      "                \"CandidateStepType\": \"AWS::SageMaker::ProcessingJob\"\n",
      "            },\n",
      "            {\n",
      "                \"CandidateStepArn\": \"arn:aws:sagemaker:us-west-2:354474215062:training-job/automl-dm--dpp2-1-eda4dfb38da5480795b08caa86b859ef4b68e62cd5144\",\n",
      "                \"CandidateStepName\": \"automl-dm--dpp2-1-eda4dfb38da5480795b08caa86b859ef4b68e62cd5144\",\n",
      "                \"CandidateStepType\": \"AWS::SageMaker::TrainingJob\"\n",
      "            },\n",
      "            {\n",
      "                \"CandidateStepArn\": \"arn:aws:sagemaker:us-west-2:354474215062:transform-job/automl-dm--dpp2-rpb-1-3ad11fc4c9ac491e8df73111e7a6f64201860e77c\",\n",
      "                \"CandidateStepName\": \"automl-dm--dpp2-rpb-1-3ad11fc4c9ac491e8df73111e7a6f64201860e77c\",\n",
      "                \"CandidateStepType\": \"AWS::SageMaker::TransformJob\"\n",
      "            },\n",
      "            {\n",
      "                \"CandidateStepArn\": \"arn:aws:sagemaker:us-west-2:354474215062:training-job/tuning-job-1-86d271dd7e4c49cc9c-001-d65099a5\",\n",
      "                \"CandidateStepName\": \"tuning-job-1-86d271dd7e4c49cc9c-001-d65099a5\",\n",
      "                \"CandidateStepType\": \"AWS::SageMaker::TrainingJob\"\n",
      "            }\n",
      "        ],\n",
      "        \"CreationTime\": \"2020-09-26 16:20:17+00:00\",\n",
      "        \"EndTime\": \"2020-09-26 16:21:14+00:00\",\n",
      "        \"FinalAutoMLJobObjectiveMetric\": {\n",
      "            \"MetricName\": \"validation:accuracy\",\n",
      "            \"Value\": 0.429610013961792\n",
      "        },\n",
      "        \"InferenceContainers\": [\n",
      "            {\n",
      "                \"Environment\": {\n",
      "                    \"AUTOML_SPARSE_ENCODE_RECORDIO_PROTOBUF\": \"1\",\n",
      "                    \"AUTOML_TRANSFORM_MODE\": \"feature-transform\",\n",
      "                    \"SAGEMAKER_DEFAULT_INVOCATIONS_ACCEPT\": \"application/x-recordio-protobuf\",\n",
      "                    \"SAGEMAKER_PROGRAM\": \"sagemaker_serve\",\n",
      "                    \"SAGEMAKER_SUBMIT_DIRECTORY\": \"/opt/ml/model/sagemaker_serve.py\"\n",
      "                },\n",
      "                \"Image\": \"246618743249.dkr.ecr.us-west-2.amazonaws.com/sagemaker-sklearn-automl:0.2-1-cpu-py3\",\n",
      "                \"ModelDataUrl\": \"s3://sagemaker-us-west-2-354474215062/models/autopilot/automl-dm-26-16-00-12/data-processor-models/automl-dm--dpp2-1-eda4dfb38da5480795b08caa86b859ef4b68e62cd5144/output/model.tar.gz\"\n",
      "            },\n",
      "            {\n",
      "                \"Environment\": {\n",
      "                    \"MAX_CONTENT_LENGTH\": \"20971520\",\n",
      "                    \"SAGEMAKER_DEFAULT_INVOCATIONS_ACCEPT\": \"text/csv\",\n",
      "                    \"SAGEMAKER_INFERENCE_OUTPUT\": \"predicted_label\",\n",
      "                    \"SAGEMAKER_INFERENCE_SUPPORTED\": \"predicted_label,probability,probabilities\"\n",
      "                },\n",
      "                \"Image\": \"246618743249.dkr.ecr.us-west-2.amazonaws.com/sagemaker-xgboost:1.0-1-cpu-py3\",\n",
      "                \"ModelDataUrl\": \"s3://sagemaker-us-west-2-354474215062/models/autopilot/automl-dm-26-16-00-12/tuning/automl-dm--dpp2-xgb/tuning-job-1-86d271dd7e4c49cc9c-001-d65099a5/output/model.tar.gz\"\n",
      "            },\n",
      "            {\n",
      "                \"Environment\": {\n",
      "                    \"AUTOML_TRANSFORM_MODE\": \"inverse-label-transform\",\n",
      "                    \"SAGEMAKER_DEFAULT_INVOCATIONS_ACCEPT\": \"text/csv\",\n",
      "                    \"SAGEMAKER_INFERENCE_INPUT\": \"predicted_label\",\n",
      "                    \"SAGEMAKER_INFERENCE_OUTPUT\": \"predicted_label\",\n",
      "                    \"SAGEMAKER_INFERENCE_SUPPORTED\": \"predicted_label,probability,labels,probabilities\",\n",
      "                    \"SAGEMAKER_PROGRAM\": \"sagemaker_serve\",\n",
      "                    \"SAGEMAKER_SUBMIT_DIRECTORY\": \"/opt/ml/model/sagemaker_serve.py\"\n",
      "                },\n",
      "                \"Image\": \"246618743249.dkr.ecr.us-west-2.amazonaws.com/sagemaker-sklearn-automl:0.2-1-cpu-py3\",\n",
      "                \"ModelDataUrl\": \"s3://sagemaker-us-west-2-354474215062/models/autopilot/automl-dm-26-16-00-12/data-processor-models/automl-dm--dpp2-1-eda4dfb38da5480795b08caa86b859ef4b68e62cd5144/output/model.tar.gz\"\n",
      "            }\n",
      "        ],\n",
      "        \"LastModifiedTime\": \"2020-09-26 16:21:52.843000+00:00\",\n",
      "        \"ObjectiveStatus\": \"Succeeded\"\n",
      "    },\n",
      "    \"CreationTime\": \"2020-09-26 16:01:50.873000+00:00\",\n",
      "    \"EndTime\": \"2020-09-26 16:21:53.728000+00:00\",\n",
      "    \"GenerateCandidateDefinitionsOnly\": false,\n",
      "    \"InputDataConfig\": [\n",
      "        {\n",
      "            \"DataSource\": {\n",
      "                \"S3DataSource\": {\n",
      "                    \"S3DataType\": \"S3Prefix\",\n",
      "                    \"S3Uri\": \"s3://sagemaker-us-west-2-354474215062/data/amazon_reviews_us_Digital_Software_v1_00_autopilot.csv\"\n",
      "                }\n",
      "            },\n",
      "            \"TargetAttributeName\": \"star_rating\"\n",
      "        }\n",
      "    ],\n",
      "    \"LastModifiedTime\": \"2020-09-26 16:21:53.768000+00:00\",\n",
      "    \"OutputDataConfig\": {\n",
      "        \"S3OutputPath\": \"s3://sagemaker-us-west-2-354474215062/models/autopilot\"\n",
      "    },\n",
      "    \"ResolvedAttributes\": {\n",
      "        \"AutoMLJobObjective\": {\n",
      "            \"MetricName\": \"Accuracy\"\n",
      "        },\n",
      "        \"CompletionCriteria\": {\n",
      "            \"MaxAutoMLJobRuntimeInSeconds\": 3600,\n",
      "            \"MaxCandidates\": 3,\n",
      "            \"MaxRuntimePerTrainingJobInSeconds\": 600\n",
      "        },\n",
      "        \"ProblemType\": \"MulticlassClassification\"\n",
      "    },\n",
      "    \"ResponseMetadata\": {\n",
      "        \"HTTPHeaders\": {\n",
      "            \"content-length\": \"4843\",\n",
      "            \"content-type\": \"application/x-amz-json-1.1\",\n",
      "            \"date\": \"Sat, 26 Sep 2020 16:22:09 GMT\",\n",
      "            \"x-amzn-requestid\": \"c101b162-f9c4-42e3-a78c-a6183598c8df\"\n",
      "        },\n",
      "        \"HTTPStatusCode\": 200,\n",
      "        \"RequestId\": \"c101b162-f9c4-42e3-a78c-a6183598c8df\",\n",
      "        \"RetryAttempts\": 0\n",
      "    },\n",
      "    \"RoleArn\": \"arn:aws:iam::354474215062:role/TeamRole\"\n",
      "}\n"
     ]
    }
   ],
   "source": [
    "print(json.dumps(best_candidate_response, indent=4, sort_keys=True, default=str))"
   ]
  },
  {
   "cell_type": "code",
   "execution_count": 47,
   "metadata": {},
   "outputs": [
    {
     "name": "stdout",
     "output_type": "stream",
     "text": [
      "Candidate name: tuning-job-1-86d271dd7e4c49cc9c-001-d65099a5\n",
      "Metric name: validation:accuracy\n",
      "Metric value: 0.429610013961792\n"
     ]
    }
   ],
   "source": [
    "if not best_candidate:\n",
    "    print('[ERROR] THE JOB DID NOT COMPLETE PROPERLY. LOOK IN PREVIOUS CELLS TO FIND THE ISSUE.')\n",
    "elif 'CandidateName' not in best_candidate:\n",
    "    print('[ERROR] THE JOB DID NOT COMPLETE PROPERLY. LOOK IN PREVIOUS CELLS TO FIND THE ISSUE.')\n",
    "elif 'FinalAutoMLJobObjectiveMetric' not in best_candidate:\n",
    "    print('[ERROR] THE JOB DID NOT COMPLETE PROPERLY. LOOK IN PREVIOUS CELLS TO FIND THE ISSUE.')\n",
    "else:\n",
    "    best_candidate_identifier = best_candidate['CandidateName']\n",
    "    print(\"Candidate name: \" + best_candidate_identifier)\n",
    "    print(\"Metric name: \" + best_candidate['FinalAutoMLJobObjectiveMetric']['MetricName'])\n",
    "    print(\"Metric value: \" + str(best_candidate['FinalAutoMLJobObjectiveMetric']['Value']))\n"
   ]
  },
  {
   "cell_type": "code",
   "execution_count": 48,
   "metadata": {},
   "outputs": [
    {
     "name": "stdout",
     "output_type": "stream",
     "text": [
      "{\n",
      "    \"CandidateName\": \"tuning-job-1-86d271dd7e4c49cc9c-001-d65099a5\",\n",
      "    \"CandidateStatus\": \"Completed\",\n",
      "    \"CandidateSteps\": [\n",
      "        {\n",
      "            \"CandidateStepArn\": \"arn:aws:sagemaker:us-west-2:354474215062:processing-job/db-1-0cdea6734aa244028c31e5111ceacbfc31b26d6775f246f9b3f2263cb6\",\n",
      "            \"CandidateStepName\": \"db-1-0cdea6734aa244028c31e5111ceacbfc31b26d6775f246f9b3f2263cb6\",\n",
      "            \"CandidateStepType\": \"AWS::SageMaker::ProcessingJob\"\n",
      "        },\n",
      "        {\n",
      "            \"CandidateStepArn\": \"arn:aws:sagemaker:us-west-2:354474215062:training-job/automl-dm--dpp2-1-eda4dfb38da5480795b08caa86b859ef4b68e62cd5144\",\n",
      "            \"CandidateStepName\": \"automl-dm--dpp2-1-eda4dfb38da5480795b08caa86b859ef4b68e62cd5144\",\n",
      "            \"CandidateStepType\": \"AWS::SageMaker::TrainingJob\"\n",
      "        },\n",
      "        {\n",
      "            \"CandidateStepArn\": \"arn:aws:sagemaker:us-west-2:354474215062:transform-job/automl-dm--dpp2-rpb-1-3ad11fc4c9ac491e8df73111e7a6f64201860e77c\",\n",
      "            \"CandidateStepName\": \"automl-dm--dpp2-rpb-1-3ad11fc4c9ac491e8df73111e7a6f64201860e77c\",\n",
      "            \"CandidateStepType\": \"AWS::SageMaker::TransformJob\"\n",
      "        },\n",
      "        {\n",
      "            \"CandidateStepArn\": \"arn:aws:sagemaker:us-west-2:354474215062:training-job/tuning-job-1-86d271dd7e4c49cc9c-001-d65099a5\",\n",
      "            \"CandidateStepName\": \"tuning-job-1-86d271dd7e4c49cc9c-001-d65099a5\",\n",
      "            \"CandidateStepType\": \"AWS::SageMaker::TrainingJob\"\n",
      "        }\n",
      "    ],\n",
      "    \"CreationTime\": \"2020-09-26 16:20:17+00:00\",\n",
      "    \"EndTime\": \"2020-09-26 16:21:14+00:00\",\n",
      "    \"FinalAutoMLJobObjectiveMetric\": {\n",
      "        \"MetricName\": \"validation:accuracy\",\n",
      "        \"Value\": 0.429610013961792\n",
      "    },\n",
      "    \"InferenceContainers\": [\n",
      "        {\n",
      "            \"Environment\": {\n",
      "                \"AUTOML_SPARSE_ENCODE_RECORDIO_PROTOBUF\": \"1\",\n",
      "                \"AUTOML_TRANSFORM_MODE\": \"feature-transform\",\n",
      "                \"SAGEMAKER_DEFAULT_INVOCATIONS_ACCEPT\": \"application/x-recordio-protobuf\",\n",
      "                \"SAGEMAKER_PROGRAM\": \"sagemaker_serve\",\n",
      "                \"SAGEMAKER_SUBMIT_DIRECTORY\": \"/opt/ml/model/sagemaker_serve.py\"\n",
      "            },\n",
      "            \"Image\": \"246618743249.dkr.ecr.us-west-2.amazonaws.com/sagemaker-sklearn-automl:0.2-1-cpu-py3\",\n",
      "            \"ModelDataUrl\": \"s3://sagemaker-us-west-2-354474215062/models/autopilot/automl-dm-26-16-00-12/data-processor-models/automl-dm--dpp2-1-eda4dfb38da5480795b08caa86b859ef4b68e62cd5144/output/model.tar.gz\"\n",
      "        },\n",
      "        {\n",
      "            \"Environment\": {\n",
      "                \"MAX_CONTENT_LENGTH\": \"20971520\",\n",
      "                \"SAGEMAKER_DEFAULT_INVOCATIONS_ACCEPT\": \"text/csv\",\n",
      "                \"SAGEMAKER_INFERENCE_OUTPUT\": \"predicted_label\",\n",
      "                \"SAGEMAKER_INFERENCE_SUPPORTED\": \"predicted_label,probability,probabilities\"\n",
      "            },\n",
      "            \"Image\": \"246618743249.dkr.ecr.us-west-2.amazonaws.com/sagemaker-xgboost:1.0-1-cpu-py3\",\n",
      "            \"ModelDataUrl\": \"s3://sagemaker-us-west-2-354474215062/models/autopilot/automl-dm-26-16-00-12/tuning/automl-dm--dpp2-xgb/tuning-job-1-86d271dd7e4c49cc9c-001-d65099a5/output/model.tar.gz\"\n",
      "        },\n",
      "        {\n",
      "            \"Environment\": {\n",
      "                \"AUTOML_TRANSFORM_MODE\": \"inverse-label-transform\",\n",
      "                \"SAGEMAKER_DEFAULT_INVOCATIONS_ACCEPT\": \"text/csv\",\n",
      "                \"SAGEMAKER_INFERENCE_INPUT\": \"predicted_label\",\n",
      "                \"SAGEMAKER_INFERENCE_OUTPUT\": \"predicted_label\",\n",
      "                \"SAGEMAKER_INFERENCE_SUPPORTED\": \"predicted_label,probability,labels,probabilities\",\n",
      "                \"SAGEMAKER_PROGRAM\": \"sagemaker_serve\",\n",
      "                \"SAGEMAKER_SUBMIT_DIRECTORY\": \"/opt/ml/model/sagemaker_serve.py\"\n",
      "            },\n",
      "            \"Image\": \"246618743249.dkr.ecr.us-west-2.amazonaws.com/sagemaker-sklearn-automl:0.2-1-cpu-py3\",\n",
      "            \"ModelDataUrl\": \"s3://sagemaker-us-west-2-354474215062/models/autopilot/automl-dm-26-16-00-12/data-processor-models/automl-dm--dpp2-1-eda4dfb38da5480795b08caa86b859ef4b68e62cd5144/output/model.tar.gz\"\n",
      "        }\n",
      "    ],\n",
      "    \"LastModifiedTime\": \"2020-09-26 16:21:52.843000+00:00\",\n",
      "    \"ObjectiveStatus\": \"Succeeded\"\n",
      "}\n"
     ]
    }
   ],
   "source": [
    "print(json.dumps(best_candidate, indent=4, sort_keys=True, default=str))"
   ]
  },
  {
   "cell_type": "markdown",
   "metadata": {},
   "source": [
    "# View Individual Autopilot Jobs"
   ]
  },
  {
   "cell_type": "code",
   "execution_count": 49,
   "metadata": {},
   "outputs": [
    {
     "name": "stdout",
     "output_type": "stream",
     "text": [
      "Candidate Step Type: AWS::SageMaker::ProcessingJob\n",
      "Candidate Step Name: db-1-0cdea6734aa244028c31e5111ceacbfc31b26d6775f246f9b3f2263cb6\n",
      "Candidate Step Type: AWS::SageMaker::TrainingJob\n",
      "Candidate Step Name: automl-dm--dpp2-1-eda4dfb38da5480795b08caa86b859ef4b68e62cd5144\n",
      "Candidate Step Type: AWS::SageMaker::TransformJob\n",
      "Candidate Step Name: automl-dm--dpp2-rpb-1-3ad11fc4c9ac491e8df73111e7a6f64201860e77c\n",
      "Candidate Step Type: AWS::SageMaker::TrainingJob\n",
      "Candidate Step Name: tuning-job-1-86d271dd7e4c49cc9c-001-d65099a5\n"
     ]
    }
   ],
   "source": [
    "steps = []\n",
    "if not best_candidate:\n",
    "    print('[ERROR] THE JOB DID NOT COMPLETE PROPERLY. LOOK IN PREVIOUS CELLS TO FIND THE ISSUE.')\n",
    "elif 'InferenceContainers' not in best_candidate:\n",
    "    print('[ERROR] THE JOB DID NOT COMPLETE PROPERLY. LOOK IN PREVIOUS CELLS TO FIND THE ISSUE.')\n",
    "else:\n",
    "    for step in best_candidate['CandidateSteps']:\n",
    "        print('Candidate Step Type: {}'.format(step['CandidateStepType']))\n",
    "        print('Candidate Step Name: {}'.format(step['CandidateStepName']))\n",
    "        steps.append(step['CandidateStepName'])"
   ]
  },
  {
   "cell_type": "code",
   "execution_count": 50,
   "metadata": {},
   "outputs": [
    {
     "data": {
      "text/html": [
       "<b>Review Best Candidate <a target=\"blank\" href=\"https://console.aws.amazon.com/sagemaker/home?region=us-west-2#/processing-jobs/db-1-0cdea6734aa244028c31e5111ceacbfc31b26d6775f246f9b3f2263cb6\">Processing Job</a></b>"
      ],
      "text/plain": [
       "<IPython.core.display.HTML object>"
      ]
     },
     "metadata": {},
     "output_type": "display_data"
    }
   ],
   "source": [
    "from IPython.core.display import display, HTML\n",
    "\n",
    "display(HTML('<b>Review Best Candidate <a target=\"blank\" href=\"https://console.aws.amazon.com/sagemaker/home?region={}#/processing-jobs/{}\">Processing Job</a></b>'.format(region, steps[0])))"
   ]
  },
  {
   "cell_type": "code",
   "execution_count": 51,
   "metadata": {},
   "outputs": [
    {
     "data": {
      "text/html": [
       "<b>Review Best Candidate <a target=\"blank\" href=\"https://console.aws.amazon.com/sagemaker/home?region=us-west-2#/jobs/automl-dm--dpp2-1-eda4dfb38da5480795b08caa86b859ef4b68e62cd5144\">Training Job</a></b>"
      ],
      "text/plain": [
       "<IPython.core.display.HTML object>"
      ]
     },
     "metadata": {},
     "output_type": "display_data"
    }
   ],
   "source": [
    "from IPython.core.display import display, HTML\n",
    "\n",
    "display(HTML('<b>Review Best Candidate <a target=\"blank\" href=\"https://console.aws.amazon.com/sagemaker/home?region={}#/jobs/{}\">Training Job</a></b>'.format(region, steps[1])))"
   ]
  },
  {
   "cell_type": "code",
   "execution_count": 52,
   "metadata": {},
   "outputs": [
    {
     "data": {
      "text/html": [
       "<b>Review Best Candidate <a target=\"blank\" href=\"https://console.aws.amazon.com/sagemaker/home?region=us-west-2#/transform-jobs/automl-dm--dpp2-rpb-1-3ad11fc4c9ac491e8df73111e7a6f64201860e77c\">Transform Job</a></b>"
      ],
      "text/plain": [
       "<IPython.core.display.HTML object>"
      ]
     },
     "metadata": {},
     "output_type": "display_data"
    }
   ],
   "source": [
    "from IPython.core.display import display, HTML\n",
    "\n",
    "display(HTML('<b>Review Best Candidate <a target=\"blank\" href=\"https://console.aws.amazon.com/sagemaker/home?region={}#/transform-jobs/{}\">Transform Job</a></b>'.format(region, steps[2])))"
   ]
  },
  {
   "cell_type": "code",
   "execution_count": 53,
   "metadata": {},
   "outputs": [
    {
     "data": {
      "text/html": [
       "<b>Review Best Candidate <a target=\"blank\" href=\"https://console.aws.amazon.com/sagemaker/home?region=us-west-2#/jobs/tuning-job-1-86d271dd7e4c49cc9c-001-d65099a5\">Training Job (Tuning)</a></b>"
      ],
      "text/plain": [
       "<IPython.core.display.HTML object>"
      ]
     },
     "metadata": {},
     "output_type": "display_data"
    }
   ],
   "source": [
    "from IPython.core.display import display, HTML\n",
    "\n",
    "display(HTML('<b>Review Best Candidate <a target=\"blank\" href=\"https://console.aws.amazon.com/sagemaker/home?region={}#/jobs/{}\">Training Job (Tuning)</a></b>'.format(region, steps[3])))"
   ]
  },
  {
   "cell_type": "markdown",
   "metadata": {},
   "source": [
    "# See the containers and models composing the Inference Pipeline"
   ]
  },
  {
   "cell_type": "code",
   "execution_count": 54,
   "metadata": {},
   "outputs": [],
   "source": [
    "best_candidate_containers = best_candidate['InferenceContainers']"
   ]
  },
  {
   "cell_type": "code",
   "execution_count": 55,
   "metadata": {},
   "outputs": [
    {
     "name": "stdout",
     "output_type": "stream",
     "text": [
      "246618743249.dkr.ecr.us-west-2.amazonaws.com/sagemaker-sklearn-automl:0.2-1-cpu-py3\n",
      "s3://sagemaker-us-west-2-354474215062/models/autopilot/automl-dm-26-16-00-12/data-processor-models/automl-dm--dpp2-1-eda4dfb38da5480795b08caa86b859ef4b68e62cd5144/output/model.tar.gz\n",
      "======================\n",
      "246618743249.dkr.ecr.us-west-2.amazonaws.com/sagemaker-xgboost:1.0-1-cpu-py3\n",
      "s3://sagemaker-us-west-2-354474215062/models/autopilot/automl-dm-26-16-00-12/tuning/automl-dm--dpp2-xgb/tuning-job-1-86d271dd7e4c49cc9c-001-d65099a5/output/model.tar.gz\n",
      "======================\n",
      "246618743249.dkr.ecr.us-west-2.amazonaws.com/sagemaker-sklearn-automl:0.2-1-cpu-py3\n",
      "s3://sagemaker-us-west-2-354474215062/models/autopilot/automl-dm-26-16-00-12/data-processor-models/automl-dm--dpp2-1-eda4dfb38da5480795b08caa86b859ef4b68e62cd5144/output/model.tar.gz\n",
      "======================\n"
     ]
    }
   ],
   "source": [
    "for container in best_candidate_containers:\n",
    "        print(container['Image'])\n",
    "        print(container['ModelDataUrl'])\n",
    "        print('======================')"
   ]
  },
  {
   "cell_type": "markdown",
   "metadata": {},
   "source": [
    "# Update Containers To Show Predicted Label and Confidence Score"
   ]
  },
  {
   "cell_type": "code",
   "execution_count": 56,
   "metadata": {},
   "outputs": [
    {
     "name": "stdout",
     "output_type": "stream",
     "text": [
      "{'AUTOML_SPARSE_ENCODE_RECORDIO_PROTOBUF': '1', 'AUTOML_TRANSFORM_MODE': 'feature-transform', 'SAGEMAKER_DEFAULT_INVOCATIONS_ACCEPT': 'application/x-recordio-protobuf', 'SAGEMAKER_PROGRAM': 'sagemaker_serve', 'SAGEMAKER_SUBMIT_DIRECTORY': '/opt/ml/model/sagemaker_serve.py'}\n",
      "======================\n",
      "{'MAX_CONTENT_LENGTH': '20971520', 'SAGEMAKER_DEFAULT_INVOCATIONS_ACCEPT': 'text/csv', 'SAGEMAKER_INFERENCE_OUTPUT': 'predicted_label', 'SAGEMAKER_INFERENCE_SUPPORTED': 'predicted_label,probability,probabilities'}\n",
      "======================\n",
      "{'AUTOML_TRANSFORM_MODE': 'inverse-label-transform', 'SAGEMAKER_DEFAULT_INVOCATIONS_ACCEPT': 'text/csv', 'SAGEMAKER_INFERENCE_INPUT': 'predicted_label', 'SAGEMAKER_INFERENCE_OUTPUT': 'predicted_label', 'SAGEMAKER_INFERENCE_SUPPORTED': 'predicted_label,probability,labels,probabilities', 'SAGEMAKER_PROGRAM': 'sagemaker_serve', 'SAGEMAKER_SUBMIT_DIRECTORY': '/opt/ml/model/sagemaker_serve.py'}\n",
      "======================\n"
     ]
    }
   ],
   "source": [
    "for container in best_candidate_containers:\n",
    "        print(container['Environment'])\n",
    "        print('======================')"
   ]
  },
  {
   "cell_type": "code",
   "execution_count": 57,
   "metadata": {},
   "outputs": [],
   "source": [
    "best_candidate_containers[1]['Environment'].update({'SAGEMAKER_INFERENCE_OUTPUT': 'predicted_label, probability'})\n",
    "best_candidate_containers[2]['Environment'].update({'SAGEMAKER_INFERENCE_INPUT': 'predicted_label, probability'})\n",
    "best_candidate_containers[2]['Environment'].update({'SAGEMAKER_INFERENCE_OUTPUT': 'predicted_label, probability'})"
   ]
  },
  {
   "cell_type": "code",
   "execution_count": 58,
   "metadata": {},
   "outputs": [
    {
     "name": "stdout",
     "output_type": "stream",
     "text": [
      "{'AUTOML_SPARSE_ENCODE_RECORDIO_PROTOBUF': '1', 'AUTOML_TRANSFORM_MODE': 'feature-transform', 'SAGEMAKER_DEFAULT_INVOCATIONS_ACCEPT': 'application/x-recordio-protobuf', 'SAGEMAKER_PROGRAM': 'sagemaker_serve', 'SAGEMAKER_SUBMIT_DIRECTORY': '/opt/ml/model/sagemaker_serve.py'}\n",
      "======================\n",
      "{'MAX_CONTENT_LENGTH': '20971520', 'SAGEMAKER_DEFAULT_INVOCATIONS_ACCEPT': 'text/csv', 'SAGEMAKER_INFERENCE_OUTPUT': 'predicted_label, probability', 'SAGEMAKER_INFERENCE_SUPPORTED': 'predicted_label,probability,probabilities'}\n",
      "======================\n",
      "{'AUTOML_TRANSFORM_MODE': 'inverse-label-transform', 'SAGEMAKER_DEFAULT_INVOCATIONS_ACCEPT': 'text/csv', 'SAGEMAKER_INFERENCE_INPUT': 'predicted_label, probability', 'SAGEMAKER_INFERENCE_OUTPUT': 'predicted_label, probability', 'SAGEMAKER_INFERENCE_SUPPORTED': 'predicted_label,probability,labels,probabilities', 'SAGEMAKER_PROGRAM': 'sagemaker_serve', 'SAGEMAKER_SUBMIT_DIRECTORY': '/opt/ml/model/sagemaker_serve.py'}\n",
      "======================\n"
     ]
    }
   ],
   "source": [
    "for container in best_candidate_containers:\n",
    "        print(container['Environment'])\n",
    "        print('======================')"
   ]
  },
  {
   "cell_type": "markdown",
   "metadata": {},
   "source": [
    "# Autopilot Chooses XGBoost as Best Candidate!\n",
    "\n",
    "Note that Autopilot chose different hyper-parameters and feature transformations than we used in our own XGBoost model."
   ]
  },
  {
   "cell_type": "markdown",
   "metadata": {},
   "source": [
    "# Deploy the Model as a REST Endpoint\n",
    "Batch transformations are also supported, but for now, we will use a REST Endpoint."
   ]
  },
  {
   "cell_type": "code",
   "execution_count": 59,
   "metadata": {},
   "outputs": [
    {
     "name": "stdout",
     "output_type": "stream",
     "text": [
      "[{'Image': '246618743249.dkr.ecr.us-west-2.amazonaws.com/sagemaker-sklearn-automl:0.2-1-cpu-py3', 'ModelDataUrl': 's3://sagemaker-us-west-2-354474215062/models/autopilot/automl-dm-26-16-00-12/data-processor-models/automl-dm--dpp2-1-eda4dfb38da5480795b08caa86b859ef4b68e62cd5144/output/model.tar.gz', 'Environment': {'AUTOML_SPARSE_ENCODE_RECORDIO_PROTOBUF': '1', 'AUTOML_TRANSFORM_MODE': 'feature-transform', 'SAGEMAKER_DEFAULT_INVOCATIONS_ACCEPT': 'application/x-recordio-protobuf', 'SAGEMAKER_PROGRAM': 'sagemaker_serve', 'SAGEMAKER_SUBMIT_DIRECTORY': '/opt/ml/model/sagemaker_serve.py'}}, {'Image': '246618743249.dkr.ecr.us-west-2.amazonaws.com/sagemaker-xgboost:1.0-1-cpu-py3', 'ModelDataUrl': 's3://sagemaker-us-west-2-354474215062/models/autopilot/automl-dm-26-16-00-12/tuning/automl-dm--dpp2-xgb/tuning-job-1-86d271dd7e4c49cc9c-001-d65099a5/output/model.tar.gz', 'Environment': {'MAX_CONTENT_LENGTH': '20971520', 'SAGEMAKER_DEFAULT_INVOCATIONS_ACCEPT': 'text/csv', 'SAGEMAKER_INFERENCE_OUTPUT': 'predicted_label, probability', 'SAGEMAKER_INFERENCE_SUPPORTED': 'predicted_label,probability,probabilities'}}, {'Image': '246618743249.dkr.ecr.us-west-2.amazonaws.com/sagemaker-sklearn-automl:0.2-1-cpu-py3', 'ModelDataUrl': 's3://sagemaker-us-west-2-354474215062/models/autopilot/automl-dm-26-16-00-12/data-processor-models/automl-dm--dpp2-1-eda4dfb38da5480795b08caa86b859ef4b68e62cd5144/output/model.tar.gz', 'Environment': {'AUTOML_TRANSFORM_MODE': 'inverse-label-transform', 'SAGEMAKER_DEFAULT_INVOCATIONS_ACCEPT': 'text/csv', 'SAGEMAKER_INFERENCE_INPUT': 'predicted_label, probability', 'SAGEMAKER_INFERENCE_OUTPUT': 'predicted_label, probability', 'SAGEMAKER_INFERENCE_SUPPORTED': 'predicted_label,probability,labels,probabilities', 'SAGEMAKER_PROGRAM': 'sagemaker_serve', 'SAGEMAKER_SUBMIT_DIRECTORY': '/opt/ml/model/sagemaker_serve.py'}}]\n"
     ]
    }
   ],
   "source": [
    "print(best_candidate['InferenceContainers'])"
   ]
  },
  {
   "cell_type": "code",
   "execution_count": 60,
   "metadata": {},
   "outputs": [
    {
     "name": "stdout",
     "output_type": "stream",
     "text": [
      "Best candidate model ARN:  arn:aws:sagemaker:us-west-2:354474215062:model/automl-dm-model-26-16-00-12\n"
     ]
    }
   ],
   "source": [
    "model_name = 'automl-dm-model-' + timestamp_suffix\n",
    "\n",
    "model_arn = sm.create_model(Containers=best_candidate['InferenceContainers'],\n",
    "                            ModelName=model_name,\n",
    "                            ExecutionRoleArn=role)\n",
    "\n",
    "print('Best candidate model ARN: ', model_arn['ModelArn'])"
   ]
  },
  {
   "cell_type": "markdown",
   "metadata": {},
   "source": [
    "# Define EndpointConfig Name"
   ]
  },
  {
   "cell_type": "code",
   "execution_count": 61,
   "metadata": {},
   "outputs": [
    {
     "name": "stdout",
     "output_type": "stream",
     "text": [
      "automl-dm-epc-26-16-22-10\n"
     ]
    }
   ],
   "source": [
    "timestamp_suffix = strftime('%d-%H-%M-%S', gmtime())\n",
    "epc_name = 'automl-dm-epc-' + timestamp_suffix\n",
    "\n",
    "print(epc_name)"
   ]
  },
  {
   "cell_type": "markdown",
   "metadata": {},
   "source": [
    "# Define REST Endpoint Name for Autopilot Model"
   ]
  },
  {
   "cell_type": "code",
   "execution_count": 62,
   "metadata": {},
   "outputs": [
    {
     "name": "stdout",
     "output_type": "stream",
     "text": [
      "automl-dm-ep-26-16-22-10\n",
      "automl-dm-variant-26-16-22-10\n"
     ]
    }
   ],
   "source": [
    "autopilot_endpoint_name = 'automl-dm-ep-' + timestamp_suffix\n",
    "variant_name = 'automl-dm-variant-' + timestamp_suffix\n",
    "\n",
    "print(autopilot_endpoint_name)\n",
    "print(variant_name)"
   ]
  },
  {
   "cell_type": "code",
   "execution_count": 63,
   "metadata": {},
   "outputs": [],
   "source": [
    "ep_config = sm.create_endpoint_config(EndpointConfigName = epc_name,\n",
    "                                      ProductionVariants=[{'InstanceType':'ml.m5.large',\n",
    "                                                           'InitialInstanceCount': 1,\n",
    "                                                           'ModelName': model_name,\n",
    "                                                           'VariantName': variant_name}])"
   ]
  },
  {
   "cell_type": "code",
   "execution_count": 64,
   "metadata": {},
   "outputs": [
    {
     "name": "stdout",
     "output_type": "stream",
     "text": [
      "arn:aws:sagemaker:us-west-2:354474215062:endpoint/automl-dm-ep-26-16-22-10\n"
     ]
    }
   ],
   "source": [
    "create_endpoint_response = sm.create_endpoint(EndpointName=autopilot_endpoint_name,\n",
    "                                              EndpointConfigName=epc_name)\n",
    "print(create_endpoint_response['EndpointArn'])"
   ]
  },
  {
   "cell_type": "code",
   "execution_count": 65,
   "metadata": {},
   "outputs": [
    {
     "data": {
      "text/html": [
       "<b>Review <a target=\"blank\" href=\"https://console.aws.amazon.com/sagemaker/home?region=us-west-2#/endpoints/automl-dm-ep-26-16-22-10\">SageMaker REST Endpoint</a></b>"
      ],
      "text/plain": [
       "<IPython.core.display.HTML object>"
      ]
     },
     "metadata": {},
     "output_type": "display_data"
    }
   ],
   "source": [
    "from IPython.core.display import display, HTML\n",
    "\n",
    "display(HTML('<b>Review <a target=\"blank\" href=\"https://console.aws.amazon.com/sagemaker/home?region={}#/endpoints/{}\">SageMaker REST Endpoint</a></b>'.format(region, autopilot_endpoint_name)))"
   ]
  },
  {
   "cell_type": "markdown",
   "metadata": {},
   "source": [
    "# Store Variables for the Next Notebooks"
   ]
  },
  {
   "cell_type": "code",
   "execution_count": 66,
   "metadata": {
    "scrolled": true
   },
   "outputs": [
    {
     "name": "stdout",
     "output_type": "stream",
     "text": [
      "Stored 'autopilot_endpoint_name' (str)\n"
     ]
    }
   ],
   "source": [
    "%store autopilot_endpoint_name"
   ]
  },
  {
   "cell_type": "code",
   "execution_count": 67,
   "metadata": {},
   "outputs": [
    {
     "name": "stdout",
     "output_type": "stream",
     "text": [
      "Stored variables and their in-db values:\n",
      "auto_ml_job_name                        -> 'automl-dm-26-16-00-12'\n",
      "autopilot_endpoint_name                 -> 'automl-dm-ep-26-16-22-10'\n",
      "autopilot_train_s3_uri                  -> 's3://sagemaker-us-west-2-354474215062/data/amazon\n",
      "setup_dependencies_passed               -> True\n",
      "setup_iam_roles_passed                  -> True\n",
      "setup_instance_check_passed             -> True\n",
      "setup_s3_bucket_passed                  -> True\n"
     ]
    }
   ],
   "source": [
    "%store"
   ]
  },
  {
   "cell_type": "markdown",
   "metadata": {},
   "source": [
    "# Summary\n",
    "We used Autopilot to automatically find the best model, hyper-parameters, and feature-engineering scripts for our dataset.  \n",
    "\n",
    "Autopilot uses a transparent approach to generate re-usable exploration Jupyter Notebooks and transformation Python scripts to continue to train and deploy our model on new data - well after this initial interaction with the Autopilot service."
   ]
  },
  {
   "cell_type": "code",
   "execution_count": null,
   "metadata": {},
   "outputs": [],
   "source": [
    "%%javascript\n",
    "Jupyter.notebook.save_checkpoint();\n",
    "Jupyter.notebook.session.delete();"
   ]
  },
  {
   "cell_type": "code",
   "execution_count": null,
   "metadata": {},
   "outputs": [],
   "source": []
  }
 ],
 "metadata": {
  "kernelspec": {
   "display_name": "conda_python3",
   "language": "python",
   "name": "conda_python3"
  },
  "language_info": {
   "codemirror_mode": {
    "name": "ipython",
    "version": 3
   },
   "file_extension": ".py",
   "mimetype": "text/x-python",
   "name": "python",
   "nbconvert_exporter": "python",
   "pygments_lexer": "ipython3",
   "version": "3.6.10"
  }
 },
 "nbformat": 4,
 "nbformat_minor": 4
}
