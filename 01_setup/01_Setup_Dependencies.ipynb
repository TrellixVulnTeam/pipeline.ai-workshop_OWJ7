{
 "cells": [
  {
   "cell_type": "markdown",
   "metadata": {},
   "source": [
    "# Set the All Python Dependencies"
   ]
  },
  {
   "cell_type": "markdown",
   "metadata": {},
   "source": [
    "# _Note:  This Notebook Will Take A Few Minutes To Complete._\n",
    "\n",
    "# _Please Be Patient._"
   ]
  },
  {
   "cell_type": "code",
   "execution_count": 1,
   "metadata": {},
   "outputs": [],
   "source": [
    "setup_dependencies_passed=False"
   ]
  },
  {
   "cell_type": "code",
   "execution_count": 2,
   "metadata": {},
   "outputs": [
    {
     "name": "stdout",
     "output_type": "stream",
     "text": [
      "Python 3.6.10 :: Anaconda, Inc.\r\n"
     ]
    }
   ],
   "source": [
    "!python --version"
   ]
  },
  {
   "cell_type": "code",
   "execution_count": 3,
   "metadata": {},
   "outputs": [
    {
     "name": "stdout",
     "output_type": "stream",
     "text": [
      "Package                            Version            \r\n",
      "---------------------------------- -------------------\r\n",
      "alabaster                          0.7.12             \r\n",
      "anaconda-client                    1.7.2              \r\n",
      "anaconda-project                   0.8.3              \r\n",
      "argh                               0.26.2             \r\n",
      "asn1crypto                         1.3.0              \r\n",
      "astroid                            2.4.2              \r\n",
      "astropy                            4.0.1.post1        \r\n",
      "atomicwrites                       1.3.0              \r\n",
      "attrs                              19.3.0             \r\n",
      "Automat                            20.2.0             \r\n",
      "autopep8                           1.4.4              \r\n",
      "autovizwidget                      0.15.0             \r\n",
      "awscli                             1.18.137           \r\n",
      "Babel                              2.8.0              \r\n",
      "backcall                           0.1.0              \r\n",
      "backports.shutil-get-terminal-size 1.0.0              \r\n",
      "bcrypt                             3.2.0              \r\n",
      "beautifulsoup4                     4.8.2              \r\n",
      "bitarray                           1.2.1              \r\n",
      "bkcharts                           0.2                \r\n",
      "bleach                             3.1.4              \r\n",
      "bokeh                              2.0.1              \r\n",
      "boto                               2.49.0             \r\n",
      "boto3                              1.14.60            \r\n",
      "botocore                           1.17.60            \r\n",
      "Bottleneck                         1.3.2              \r\n",
      "cached-property                    1.5.1              \r\n",
      "certifi                            2020.6.20          \r\n",
      "cffi                               1.14.0             \r\n",
      "chardet                            3.0.4              \r\n",
      "click                              7.1.1              \r\n",
      "cloudpickle                        1.3.0              \r\n",
      "clyent                             1.2.2              \r\n",
      "colorama                           0.4.3              \r\n",
      "contextlib2                        0.6.0.post1        \r\n",
      "cryptography                       2.8                \r\n",
      "cycler                             0.10.0             \r\n",
      "Cython                             0.29.15            \r\n",
      "cytoolz                            0.10.1             \r\n",
      "dask                               2.14.0             \r\n",
      "decorator                          4.4.2              \r\n",
      "defusedxml                         0.6.0              \r\n",
      "diff-match-patch                   20181111           \r\n",
      "distributed                        2.14.0             \r\n",
      "distro                             1.5.0              \r\n",
      "docker                             4.3.1              \r\n",
      "docker-compose                     1.27.2             \r\n",
      "dockerpty                          0.4.1              \r\n",
      "docopt                             0.6.2              \r\n",
      "docutils                           0.15.2             \r\n",
      "entrypoints                        0.3                \r\n",
      "enum34                             1.1.10             \r\n",
      "environment-kernels                1.1.1              \r\n",
      "et-xmlfile                         1.0.1              \r\n",
      "fastcache                          1.1.0              \r\n",
      "filelock                           3.0.12             \r\n",
      "flake8                             3.7.9              \r\n",
      "Flask                              1.1.1              \r\n",
      "fsspec                             0.7.1              \r\n",
      "future                             0.18.2             \r\n",
      "gevent                             1.4.0              \r\n",
      "glob2                              0.7                \r\n",
      "gmpy2                              2.0.8              \r\n",
      "greenlet                           0.4.15             \r\n",
      "h5py                               2.10.0             \r\n",
      "hdijupyterutils                    0.15.0             \r\n",
      "HeapDict                           1.0.1              \r\n",
      "html5lib                           1.0.1              \r\n",
      "hypothesis                         5.8.3              \r\n",
      "idna                               2.9                \r\n",
      "imageio                            2.8.0              \r\n",
      "imagesize                          1.2.0              \r\n",
      "importlib-metadata                 1.5.0              \r\n",
      "intervaltree                       3.0.2              \r\n",
      "ipykernel                          5.1.4              \r\n",
      "ipyparallel                        6.2.4              \r\n",
      "ipython                            7.13.0             \r\n",
      "ipython-genutils                   0.2.0              \r\n",
      "ipywidgets                         7.5.1              \r\n",
      "isort                              4.3.21             \r\n",
      "itsdangerous                       1.1.0              \r\n",
      "jdcal                              1.4.1              \r\n",
      "jedi                               0.15.2             \r\n",
      "jeepney                            0.4.3              \r\n",
      "Jinja2                             2.11.1             \r\n",
      "jmespath                           0.9.4              \r\n",
      "joblib                             0.14.1             \r\n",
      "json5                              0.9.4              \r\n",
      "jsonschema                         3.2.0              \r\n",
      "jupyter                            1.0.0              \r\n",
      "jupyter-client                     6.1.2              \r\n",
      "jupyter-console                    6.1.0              \r\n",
      "jupyter-core                       4.6.3              \r\n",
      "jupyterlab                         1.2.6              \r\n",
      "jupyterlab-server                  1.1.0              \r\n",
      "keyring                            21.1.1             \r\n",
      "kiwisolver                         1.1.0              \r\n",
      "lazy-object-proxy                  1.4.3              \r\n",
      "libarchive-c                       2.8                \r\n",
      "lief                               0.9.0              \r\n",
      "llvmlite                           0.31.0             \r\n",
      "locket                             0.2.0              \r\n",
      "lxml                               4.5.0              \r\n",
      "MarkupSafe                         1.1.1              \r\n",
      "matplotlib                         3.1.3              \r\n",
      "mccabe                             0.6.1              \r\n",
      "mistune                            0.8.4              \r\n",
      "mkl-fft                            1.0.15             \r\n",
      "mkl-random                         1.1.0              \r\n",
      "mkl-service                        2.3.0              \r\n",
      "mock                               4.0.1              \r\n",
      "more-itertools                     8.2.0              \r\n",
      "mpmath                             1.1.0              \r\n",
      "msgpack                            1.0.0              \r\n",
      "multipledispatch                   0.6.0              \r\n",
      "nb-conda                           2.2.1              \r\n",
      "nb-conda-kernels                   2.2.3              \r\n",
      "nbconvert                          5.6.1              \r\n",
      "nbformat                           5.0.4              \r\n",
      "networkx                           2.4                \r\n",
      "nltk                               3.4.5              \r\n",
      "nose                               1.3.7              \r\n",
      "notebook                           6.0.3              \r\n",
      "numba                              0.48.0             \r\n",
      "numexpr                            2.7.1              \r\n",
      "numpy                              1.18.1             \r\n",
      "numpydoc                           0.9.2              \r\n",
      "nvidia-ml-py                       10.418.84          \r\n",
      "olefile                            0.46               \r\n",
      "opencv-python                      4.2.0.32           \r\n",
      "openpyxl                           3.0.3              \r\n",
      "packaging                          20.3               \r\n",
      "pandas                             1.0.5              \r\n",
      "pandocfilters                      1.4.2              \r\n",
      "paramiko                           2.7.2              \r\n",
      "parso                              0.5.2              \r\n",
      "partd                              1.1.0              \r\n",
      "path                               13.1.0             \r\n",
      "pathlib2                           2.3.5              \r\n",
      "pathtools                          0.1.2              \r\n",
      "patsy                              0.5.1              \r\n",
      "pep8                               1.7.1              \r\n",
      "pexpect                            4.8.0              \r\n",
      "pickleshare                        0.7.5              \r\n",
      "Pillow                             7.1.2              \r\n",
      "pip                                20.0.2             \r\n",
      "pkginfo                            1.5.0.1            \r\n",
      "plotly                             4.9.0              \r\n",
      "pluggy                             0.13.1             \r\n",
      "ply                                3.11               \r\n",
      "prometheus-client                  0.7.1              \r\n",
      "prompt-toolkit                     3.0.4              \r\n",
      "protobuf                           3.13.0             \r\n",
      "protobuf3-to-dict                  0.1.5              \r\n",
      "psutil                             5.7.0              \r\n",
      "psycopg2                           2.7.5              \r\n",
      "ptyprocess                         0.6.0              \r\n",
      "py                                 1.8.1              \r\n",
      "py4j                               0.10.7             \r\n",
      "pyasn1                             0.4.8              \r\n",
      "pycodestyle                        2.5.0              \r\n",
      "pycosat                            0.6.3              \r\n",
      "pycparser                          2.20               \r\n",
      "pycrypto                           2.6.1              \r\n",
      "pycurl                             7.43.0.5           \r\n",
      "pydocstyle                         4.0.1              \r\n",
      "pyflakes                           2.1.1              \r\n",
      "pygal                              2.4.0              \r\n",
      "Pygments                           2.6.1              \r\n",
      "pykerberos                         1.2.1              \r\n",
      "pylint                             2.5.3              \r\n",
      "PyNaCl                             1.4.0              \r\n",
      "pyodbc                             4.0.0-unsupported  \r\n",
      "pyOpenSSL                          19.1.0             \r\n",
      "pyparsing                          2.4.6              \r\n",
      "pyrsistent                         0.16.0             \r\n",
      "PySocks                            1.7.1              \r\n",
      "pyspark                            2.3.4              \r\n",
      "pytest                             5.4.1              \r\n",
      "pytest-arraydiff                   0.3                \r\n",
      "pytest-astropy                     0.8.0              \r\n",
      "pytest-astropy-header              0.1.2              \r\n",
      "pytest-doctestplus                 0.5.0              \r\n",
      "pytest-openfiles                   0.4.0              \r\n",
      "pytest-remotedata                  0.3.2              \r\n",
      "python-dateutil                    2.8.1              \r\n",
      "python-dotenv                      0.14.0             \r\n",
      "python-jsonrpc-server              0.3.4              \r\n",
      "python-language-server             0.31.9             \r\n",
      "pytz                               2019.3             \r\n",
      "PyWavelets                         1.1.1              \r\n",
      "pyxdg                              0.26               \r\n",
      "PyYAML                             5.3.1              \r\n",
      "pyzmq                              18.1.1             \r\n",
      "QDarkStyle                         2.8                \r\n",
      "QtAwesome                          0.7.0              \r\n",
      "qtconsole                          4.7.2              \r\n",
      "QtPy                               1.9.0              \r\n",
      "requests                           2.23.0             \r\n",
      "requests-kerberos                  0.12.0             \r\n",
      "retrying                           1.3.3              \r\n",
      "rope                               0.16.0             \r\n",
      "rsa                                4.5                \r\n",
      "Rtree                              0.9.4              \r\n",
      "ruamel-yaml                        0.15.87            \r\n",
      "s3fs                               0.4.0              \r\n",
      "s3transfer                         0.3.3              \r\n",
      "sagemaker                          1.72.0             \r\n",
      "sagemaker-pyspark                  1.4.0              \r\n",
      "scikit-image                       0.16.2             \r\n",
      "scikit-learn                       0.23.1             \r\n",
      "scipy                              1.4.1              \r\n",
      "seaborn                            0.10.0             \r\n",
      "SecretStorage                      3.1.2              \r\n",
      "Send2Trash                         1.5.0              \r\n",
      "setuptools                         46.1.3.post20200330\r\n",
      "simplegeneric                      0.8.1              \r\n",
      "singledispatch                     3.4.0.3            \r\n",
      "six                                1.14.0             \r\n",
      "smdebug-rulesconfig                0.1.4              \r\n",
      "snowballstemmer                    2.0.0              \r\n",
      "sortedcollections                  1.1.2              \r\n",
      "sortedcontainers                   2.1.0              \r\n",
      "soupsieve                          2.0                \r\n",
      "sparkmagic                         0.15.0             \r\n",
      "Sphinx                             3.0.4              \r\n",
      "sphinxcontrib-applehelp            1.0.2              \r\n",
      "sphinxcontrib-devhelp              1.0.2              \r\n",
      "sphinxcontrib-htmlhelp             1.0.3              \r\n",
      "sphinxcontrib-jsmath               1.0.1              \r\n",
      "sphinxcontrib-qthelp               1.0.3              \r\n",
      "sphinxcontrib-serializinghtml      1.1.4              \r\n",
      "sphinxcontrib-websupport           1.2.1              \r\n",
      "spyder                             4.1.2              \r\n",
      "spyder-kernels                     1.9.0              \r\n",
      "SQLAlchemy                         1.3.15             \r\n",
      "statsmodels                        0.11.0             \r\n",
      "sympy                              1.5.1              \r\n",
      "tables                             3.6.1              \r\n",
      "tblib                              1.6.0              \r\n",
      "terminado                          0.8.3              \r\n",
      "testpath                           0.4.4              \r\n",
      "texttable                          1.6.3              \r\n",
      "threadpoolctl                      2.1.0              \r\n",
      "toml                               0.10.1             \r\n",
      "toolz                              0.10.0             \r\n",
      "tornado                            6.0.4              \r\n",
      "tqdm                               4.44.1             \r\n",
      "traitlets                          4.3.3              \r\n",
      "typed-ast                          1.4.1              \r\n",
      "typing-extensions                  3.7.4.1            \r\n",
      "ujson                              1.35               \r\n",
      "unicodecsv                         0.14.1             \r\n",
      "urllib3                            1.25.8             \r\n",
      "watchdog                           0.10.2             \r\n",
      "wcwidth                            0.1.9              \r\n",
      "webencodings                       0.5.1              \r\n",
      "websocket-client                   0.57.0             \r\n",
      "Werkzeug                           1.0.1              \r\n",
      "wheel                              0.34.2             \r\n",
      "widgetsnbextension                 3.5.1              \r\n",
      "wrapt                              1.12.1             \r\n",
      "wurlitzer                          2.0.0              \r\n",
      "xlrd                               1.2.0              \r\n",
      "XlsxWriter                         1.2.8              \r\n",
      "xlwt                               1.3.0              \r\n",
      "yapf                               0.28.0             \r\n",
      "zict                               2.0.0              \r\n",
      "zipp                               2.2.0              \r\n"
     ]
    },
    {
     "name": "stdout",
     "output_type": "stream",
     "text": [
      "\u001b[33mWARNING: You are using pip version 20.0.2; however, version 20.2.3 is available.\r\n",
      "You should consider upgrading via the '/home/ec2-user/anaconda3/envs/python3/bin/python -m pip install --upgrade pip' command.\u001b[0m\r\n"
     ]
    }
   ],
   "source": [
    "!pip list"
   ]
  },
  {
   "cell_type": "markdown",
   "metadata": {},
   "source": [
    "# Pip"
   ]
  },
  {
   "cell_type": "code",
   "execution_count": 4,
   "metadata": {},
   "outputs": [],
   "source": [
    "!pip install -q pip --upgrade\n",
    "!pip install -q wrapt --upgrade --ignore-installed"
   ]
  },
  {
   "cell_type": "markdown",
   "metadata": {},
   "source": [
    "# AWS CLI"
   ]
  },
  {
   "cell_type": "code",
   "execution_count": 5,
   "metadata": {},
   "outputs": [],
   "source": [
    "!pip install -q awscli==1.18.137"
   ]
  },
  {
   "cell_type": "markdown",
   "metadata": {},
   "source": [
    "# AWS Python SDK (boto3)"
   ]
  },
  {
   "cell_type": "code",
   "execution_count": 6,
   "metadata": {},
   "outputs": [],
   "source": [
    "!pip install -q boto3==1.14.60"
   ]
  },
  {
   "cell_type": "markdown",
   "metadata": {},
   "source": [
    "# SageMaker"
   ]
  },
  {
   "cell_type": "code",
   "execution_count": 7,
   "metadata": {},
   "outputs": [],
   "source": [
    "!pip install -q sagemaker==2.9.2\n",
    "!pip install -q smdebug==0.9.3\n",
    "!pip install -q sagemaker-experiments==0.1.24"
   ]
  },
  {
   "cell_type": "markdown",
   "metadata": {},
   "source": [
    "# PyTorch"
   ]
  },
  {
   "cell_type": "code",
   "execution_count": 8,
   "metadata": {},
   "outputs": [],
   "source": [
    "!pip install -q torch==1.5.0"
   ]
  },
  {
   "cell_type": "markdown",
   "metadata": {},
   "source": [
    "# TensorFlow"
   ]
  },
  {
   "cell_type": "code",
   "execution_count": 9,
   "metadata": {},
   "outputs": [],
   "source": [
    "!pip install -q tensorflow==2.1.0"
   ]
  },
  {
   "cell_type": "markdown",
   "metadata": {},
   "source": [
    "# Hugging Face Transformers (BERT)"
   ]
  },
  {
   "cell_type": "code",
   "execution_count": 10,
   "metadata": {},
   "outputs": [],
   "source": [
    "!pip install -q transformers==2.8.0"
   ]
  },
  {
   "cell_type": "markdown",
   "metadata": {},
   "source": [
    "# TorchServe"
   ]
  },
  {
   "cell_type": "code",
   "execution_count": 11,
   "metadata": {},
   "outputs": [],
   "source": [
    "!pip install -q torchserve==0.1.1\n",
    "!pip install -q torch-model-archiver==0.1.1"
   ]
  },
  {
   "cell_type": "markdown",
   "metadata": {},
   "source": [
    "# PyAthena"
   ]
  },
  {
   "cell_type": "code",
   "execution_count": 12,
   "metadata": {},
   "outputs": [],
   "source": [
    "!pip install -q PyAthena==1.10.7"
   ]
  },
  {
   "cell_type": "markdown",
   "metadata": {},
   "source": [
    "# Redshift"
   ]
  },
  {
   "cell_type": "code",
   "execution_count": 13,
   "metadata": {},
   "outputs": [],
   "source": [
    "!pip install -q SQLAlchemy==1.3.13"
   ]
  },
  {
   "cell_type": "markdown",
   "metadata": {},
   "source": [
    "# AWS Data Wrangler"
   ]
  },
  {
   "cell_type": "code",
   "execution_count": 14,
   "metadata": {},
   "outputs": [],
   "source": [
    "!pip install -q awswrangler==1.9.3"
   ]
  },
  {
   "cell_type": "markdown",
   "metadata": {},
   "source": [
    "# StepFunctions"
   ]
  },
  {
   "cell_type": "code",
   "execution_count": 15,
   "metadata": {},
   "outputs": [],
   "source": [
    "!pip install -q stepfunctions==2.0.0rc1"
   ]
  },
  {
   "cell_type": "markdown",
   "metadata": {},
   "source": [
    "# Summarize"
   ]
  },
  {
   "cell_type": "code",
   "execution_count": 16,
   "metadata": {},
   "outputs": [
    {
     "name": "stdout",
     "output_type": "stream",
     "text": [
      "Python 3.6.10 :: Anaconda, Inc.\r\n"
     ]
    }
   ],
   "source": [
    "!python --version"
   ]
  },
  {
   "cell_type": "code",
   "execution_count": 17,
   "metadata": {},
   "outputs": [
    {
     "name": "stdout",
     "output_type": "stream",
     "text": [
      "Package                            Version\r\n",
      "---------------------------------- -------------------\r\n",
      "absl-py                            0.10.0\r\n",
      "alabaster                          0.7.12\r\n",
      "anaconda-client                    1.7.2\r\n",
      "anaconda-project                   0.8.3\r\n",
      "argh                               0.26.2\r\n",
      "asn1crypto                         1.3.0\r\n",
      "astor                              0.8.1\r\n",
      "astroid                            2.4.2\r\n",
      "astropy                            4.0.1.post1\r\n",
      "atomicwrites                       1.3.0\r\n",
      "attrs                              19.3.0\r\n",
      "Automat                            20.2.0\r\n",
      "autopep8                           1.4.4\r\n",
      "autovizwidget                      0.15.0\r\n",
      "awscli                             1.18.137\r\n",
      "awswrangler                        1.9.3\r\n",
      "Babel                              2.8.0\r\n",
      "backcall                           0.1.0\r\n",
      "backports.shutil-get-terminal-size 1.0.0\r\n",
      "bcrypt                             3.2.0\r\n",
      "beautifulsoup4                     4.8.2\r\n",
      "bitarray                           1.2.1\r\n",
      "bkcharts                           0.2\r\n",
      "bleach                             3.1.4\r\n",
      "bokeh                              2.0.1\r\n",
      "boto                               2.49.0\r\n",
      "boto3                              1.14.60\r\n",
      "botocore                           1.17.60\r\n",
      "Bottleneck                         1.3.2\r\n",
      "cached-property                    1.5.1\r\n",
      "cachetools                         4.1.1\r\n",
      "certifi                            2020.6.20\r\n",
      "cffi                               1.14.0\r\n",
      "chardet                            3.0.4\r\n",
      "click                              7.1.1\r\n",
      "cloudpickle                        1.3.0\r\n",
      "clyent                             1.2.2\r\n",
      "colorama                           0.4.3\r\n",
      "contextlib2                        0.6.0.post1\r\n",
      "cryptography                       2.8\r\n",
      "cycler                             0.10.0\r\n",
      "Cython                             0.29.15\r\n",
      "cytoolz                            0.10.1\r\n",
      "dask                               2.14.0\r\n",
      "dataclasses                        0.7\r\n",
      "decorator                          4.4.2\r\n",
      "defusedxml                         0.6.0\r\n",
      "diff-match-patch                   20181111\r\n",
      "distributed                        2.14.0\r\n",
      "distro                             1.5.0\r\n",
      "docker                             4.3.1\r\n",
      "docker-compose                     1.27.2\r\n",
      "dockerpty                          0.4.1\r\n",
      "docopt                             0.6.2\r\n",
      "docutils                           0.15.2\r\n",
      "entrypoints                        0.3\r\n",
      "enum-compat                        0.0.3\r\n",
      "enum34                             1.1.10\r\n",
      "environment-kernels                1.1.1\r\n",
      "et-xmlfile                         1.0.1\r\n",
      "fastcache                          1.1.0\r\n",
      "filelock                           3.0.12\r\n",
      "flake8                             3.7.9\r\n",
      "Flask                              1.1.1\r\n",
      "fsspec                             0.7.1\r\n",
      "future                             0.18.2\r\n",
      "gast                               0.2.2\r\n",
      "gevent                             1.4.0\r\n",
      "glob2                              0.7\r\n",
      "gmpy2                              2.0.8\r\n",
      "google-auth                        1.21.3\r\n",
      "google-auth-oauthlib               0.4.1\r\n",
      "google-pasta                       0.2.0\r\n",
      "greenlet                           0.4.15\r\n",
      "grpcio                             1.32.0\r\n",
      "h5py                               2.10.0\r\n",
      "hdijupyterutils                    0.15.0\r\n",
      "HeapDict                           1.0.1\r\n",
      "html5lib                           1.0.1\r\n",
      "hypothesis                         5.8.3\r\n",
      "idna                               2.9\r\n",
      "imageio                            2.8.0\r\n",
      "imagesize                          1.2.0\r\n",
      "importlib-metadata                 1.5.0\r\n",
      "intervaltree                       3.0.2\r\n",
      "ipykernel                          5.1.4\r\n",
      "ipyparallel                        6.2.4\r\n",
      "ipython                            7.13.0\r\n",
      "ipython-genutils                   0.2.0\r\n",
      "ipywidgets                         7.5.1\r\n",
      "isort                              4.3.21\r\n",
      "itsdangerous                       1.1.0\r\n",
      "jdcal                              1.4.1\r\n",
      "jedi                               0.15.2\r\n",
      "jeepney                            0.4.3\r\n",
      "Jinja2                             2.11.1\r\n",
      "jmespath                           0.9.4\r\n",
      "joblib                             0.14.1\r\n",
      "json5                              0.9.4\r\n",
      "jsonschema                         3.2.0\r\n",
      "jupyter                            1.0.0\r\n",
      "jupyter-client                     6.1.2\r\n",
      "jupyter-console                    6.1.0\r\n",
      "jupyter-core                       4.6.3\r\n",
      "jupyterlab                         1.2.6\r\n",
      "jupyterlab-server                  1.1.0\r\n",
      "Keras-Applications                 1.0.8\r\n",
      "Keras-Preprocessing                1.1.2\r\n",
      "keyring                            21.1.1\r\n",
      "kiwisolver                         1.1.0\r\n",
      "lazy-object-proxy                  1.4.3\r\n",
      "libarchive-c                       2.8\r\n",
      "lief                               0.9.0\r\n",
      "llvmlite                           0.31.0\r\n",
      "locket                             0.2.0\r\n",
      "lxml                               4.5.0\r\n",
      "Markdown                           3.2.2\r\n",
      "MarkupSafe                         1.1.1\r\n",
      "matplotlib                         3.1.3\r\n",
      "mccabe                             0.6.1\r\n",
      "mistune                            0.8.4\r\n",
      "mkl-fft                            1.0.15\r\n",
      "mkl-random                         1.1.0\r\n",
      "mkl-service                        2.3.0\r\n",
      "mock                               4.0.1\r\n",
      "more-itertools                     8.2.0\r\n",
      "mpmath                             1.1.0\r\n",
      "msgpack                            1.0.0\r\n",
      "multipledispatch                   0.6.0\r\n",
      "nb-conda                           2.2.1\r\n",
      "nb-conda-kernels                   2.2.3\r\n",
      "nbconvert                          5.6.1\r\n",
      "nbformat                           5.0.4\r\n",
      "networkx                           2.4\r\n",
      "nltk                               3.4.5\r\n",
      "nose                               1.3.7\r\n",
      "notebook                           6.0.3\r\n",
      "numba                              0.48.0\r\n",
      "numexpr                            2.7.1\r\n",
      "numpy                              1.18.1\r\n",
      "numpydoc                           0.9.2\r\n",
      "nvidia-ml-py                       10.418.84\r\n",
      "oauthlib                           3.1.0\r\n",
      "olefile                            0.46\r\n",
      "opencv-python                      4.2.0.32\r\n",
      "openpyxl                           3.0.3\r\n",
      "opt-einsum                         3.3.0\r\n",
      "packaging                          20.3\r\n",
      "pandas                             1.0.5\r\n",
      "pandocfilters                      1.4.2\r\n",
      "paramiko                           2.7.2\r\n",
      "parso                              0.5.2\r\n",
      "partd                              1.1.0\r\n",
      "path                               13.1.0\r\n",
      "pathlib2                           2.3.5\r\n",
      "pathtools                          0.1.2\r\n",
      "patsy                              0.5.1\r\n",
      "pep8                               1.7.1\r\n",
      "pexpect                            4.8.0\r\n",
      "pickleshare                        0.7.5\r\n",
      "Pillow                             7.1.2\r\n",
      "pip                                20.2.3\r\n",
      "pkginfo                            1.5.0.1\r\n",
      "plotly                             4.9.0\r\n",
      "pluggy                             0.13.1\r\n",
      "ply                                3.11\r\n",
      "prometheus-client                  0.7.1\r\n",
      "prompt-toolkit                     3.0.4\r\n",
      "protobuf                           3.13.0\r\n",
      "protobuf3-to-dict                  0.1.5\r\n",
      "psutil                             5.7.0\r\n",
      "psycopg2                           2.7.5\r\n",
      "psycopg2-binary                    2.8.6\r\n",
      "ptyprocess                         0.6.0\r\n",
      "py                                 1.8.1\r\n",
      "py4j                               0.10.7\r\n",
      "pyarrow                            1.0.1\r\n",
      "pyasn1                             0.4.8\r\n",
      "pyasn1-modules                     0.2.8\r\n",
      "PyAthena                           1.10.7\r\n",
      "pycodestyle                        2.5.0\r\n",
      "pycosat                            0.6.3\r\n",
      "pycparser                          2.20\r\n",
      "pycrypto                           2.6.1\r\n",
      "pycurl                             7.43.0.5\r\n",
      "pydocstyle                         4.0.1\r\n",
      "pyflakes                           2.1.1\r\n",
      "pygal                              2.4.0\r\n",
      "Pygments                           2.6.1\r\n",
      "pykerberos                         1.2.1\r\n",
      "pylint                             2.5.3\r\n",
      "PyMySQL                            0.10.1\r\n",
      "PyNaCl                             1.4.0\r\n",
      "pyodbc                             4.0.0-unsupported\r\n",
      "pyOpenSSL                          19.1.0\r\n",
      "pyparsing                          2.4.6\r\n",
      "pyrsistent                         0.16.0\r\n",
      "PySocks                            1.7.1\r\n",
      "pyspark                            2.3.4\r\n",
      "pytest                             5.4.1\r\n",
      "pytest-arraydiff                   0.3\r\n",
      "pytest-astropy                     0.8.0\r\n",
      "pytest-astropy-header              0.1.2\r\n",
      "pytest-doctestplus                 0.5.0\r\n",
      "pytest-openfiles                   0.4.0\r\n",
      "pytest-remotedata                  0.3.2\r\n",
      "python-dateutil                    2.8.1\r\n",
      "python-dotenv                      0.14.0\r\n",
      "python-jsonrpc-server              0.3.4\r\n",
      "python-language-server             0.31.9\r\n",
      "pytz                               2019.3\r\n",
      "PyWavelets                         1.1.1\r\n",
      "pyxdg                              0.26\r\n",
      "PyYAML                             5.3.1\r\n",
      "pyzmq                              18.1.1\r\n",
      "QDarkStyle                         2.8\r\n",
      "QtAwesome                          0.7.0\r\n",
      "qtconsole                          4.7.2\r\n",
      "QtPy                               1.9.0\r\n",
      "regex                              2020.7.14\r\n",
      "requests                           2.23.0\r\n",
      "requests-kerberos                  0.12.0\r\n",
      "requests-oauthlib                  1.3.0\r\n",
      "retrying                           1.3.3\r\n",
      "rope                               0.16.0\r\n",
      "rsa                                4.5\r\n",
      "Rtree                              0.9.4\r\n",
      "ruamel-yaml                        0.15.87\r\n",
      "s3fs                               0.4.0\r\n",
      "s3transfer                         0.3.3\r\n",
      "sacremoses                         0.0.43\r\n",
      "sagemaker                          2.9.2\r\n",
      "sagemaker-experiments              0.1.24\r\n",
      "sagemaker-pyspark                  1.4.0\r\n",
      "scikit-image                       0.16.2\r\n",
      "scikit-learn                       0.23.1\r\n",
      "scipy                              1.4.1\r\n",
      "seaborn                            0.10.0\r\n",
      "SecretStorage                      3.1.2\r\n",
      "Send2Trash                         1.5.0\r\n",
      "sentencepiece                      0.1.91\r\n",
      "setuptools                         46.1.3.post20200330\r\n",
      "simplegeneric                      0.8.1\r\n",
      "singledispatch                     3.4.0.3\r\n",
      "six                                1.14.0\r\n",
      "smdebug                            0.9.3\r\n",
      "smdebug-rulesconfig                0.1.5\r\n",
      "snowballstemmer                    2.0.0\r\n",
      "sortedcollections                  1.1.2\r\n",
      "sortedcontainers                   2.1.0\r\n",
      "soupsieve                          2.0\r\n",
      "sparkmagic                         0.15.0\r\n",
      "Sphinx                             3.0.4\r\n",
      "sphinxcontrib-applehelp            1.0.2\r\n",
      "sphinxcontrib-devhelp              1.0.2\r\n",
      "sphinxcontrib-htmlhelp             1.0.3\r\n",
      "sphinxcontrib-jsmath               1.0.1\r\n",
      "sphinxcontrib-qthelp               1.0.3\r\n",
      "sphinxcontrib-serializinghtml      1.1.4\r\n",
      "sphinxcontrib-websupport           1.2.1\r\n",
      "spyder                             4.1.2\r\n",
      "spyder-kernels                     1.9.0\r\n",
      "SQLAlchemy                         1.3.13\r\n",
      "sqlalchemy-redshift                0.8.1\r\n",
      "statsmodels                        0.11.0\r\n",
      "stepfunctions                      2.0.0rc1\r\n",
      "sympy                              1.5.1\r\n",
      "tables                             3.6.1\r\n",
      "tblib                              1.6.0\r\n",
      "tenacity                           6.2.0\r\n",
      "tensorboard                        2.1.1\r\n",
      "tensorflow                         2.1.0\r\n",
      "tensorflow-estimator               2.1.0\r\n",
      "termcolor                          1.1.0\r\n",
      "terminado                          0.8.3\r\n",
      "testpath                           0.4.4\r\n",
      "texttable                          1.6.3\r\n",
      "threadpoolctl                      2.1.0\r\n",
      "tokenizers                         0.5.2\r\n",
      "toml                               0.10.1\r\n",
      "toolz                              0.10.0\r\n",
      "torch                              1.5.0\r\n",
      "torch-model-archiver               0.1.1\r\n",
      "torchserve                         0.1.1\r\n",
      "tornado                            6.0.4\r\n",
      "tqdm                               4.44.1\r\n",
      "traitlets                          4.3.3\r\n",
      "transformers                       2.8.0\r\n",
      "typed-ast                          1.4.1\r\n",
      "typing-extensions                  3.7.4.1\r\n",
      "ujson                              1.35\r\n",
      "unicodecsv                         0.14.1\r\n",
      "urllib3                            1.25.8\r\n",
      "watchdog                           0.10.2\r\n",
      "wcwidth                            0.1.9\r\n",
      "webencodings                       0.5.1\r\n",
      "websocket-client                   0.57.0\r\n",
      "Werkzeug                           1.0.1\r\n",
      "wheel                              0.34.2\r\n",
      "widgetsnbextension                 3.5.1\r\n",
      "wrapt                              1.12.1\r\n",
      "wurlitzer                          2.0.0\r\n",
      "xlrd                               1.2.0\r\n",
      "XlsxWriter                         1.2.8\r\n",
      "xlwt                               1.3.0\r\n",
      "yapf                               0.28.0\r\n",
      "zict                               2.0.0\r\n",
      "zipp                               2.2.0\r\n"
     ]
    }
   ],
   "source": [
    "!pip list"
   ]
  },
  {
   "cell_type": "code",
   "execution_count": 18,
   "metadata": {},
   "outputs": [],
   "source": [
    "setup_dependencies_passed=True"
   ]
  },
  {
   "cell_type": "code",
   "execution_count": 19,
   "metadata": {},
   "outputs": [
    {
     "name": "stdout",
     "output_type": "stream",
     "text": [
      "Stored 'setup_dependencies_passed' (bool)\n"
     ]
    }
   ],
   "source": [
    "%store setup_dependencies_passed"
   ]
  },
  {
   "cell_type": "code",
   "execution_count": 20,
   "metadata": {},
   "outputs": [
    {
     "name": "stdout",
     "output_type": "stream",
     "text": [
      "Stored variables and their in-db values:\n",
      "setup_dependencies_passed             -> True\n"
     ]
    }
   ],
   "source": [
    "%store"
   ]
  },
  {
   "cell_type": "markdown",
   "metadata": {},
   "source": [
    "# Release Resources"
   ]
  },
  {
   "cell_type": "code",
   "execution_count": null,
   "metadata": {},
   "outputs": [],
   "source": [
    "%%javascript\n",
    "Jupyter.notebook.save_checkpoint();\n",
    "Jupyter.notebook.session.delete();"
   ]
  },
  {
   "cell_type": "code",
   "execution_count": null,
   "metadata": {},
   "outputs": [],
   "source": []
  }
 ],
 "metadata": {
  "kernelspec": {
   "display_name": "conda_python3",
   "language": "python",
   "name": "conda_python3"
  },
  "language_info": {
   "codemirror_mode": {
    "name": "ipython",
    "version": 3
   },
   "file_extension": ".py",
   "mimetype": "text/x-python",
   "name": "python",
   "nbconvert_exporter": "python",
   "pygments_lexer": "ipython3",
   "version": "3.6.10"
  }
 },
 "nbformat": 4,
 "nbformat_minor": 4
}
